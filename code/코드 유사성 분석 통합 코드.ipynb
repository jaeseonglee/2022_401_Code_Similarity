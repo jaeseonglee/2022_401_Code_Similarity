{
 "cells": [
  {
   "cell_type": "markdown",
   "id": "b1fbdf82",
   "metadata": {},
   "source": [
    "# 데이콘 코드 유사성 판단 AI 경진대회\n",
    "\n",
    "| 이름 | 비고 | \n",
    "|-------|------|\n",
    "| 홍영복 | 팀장 |\n",
    "| 구창회 | 팀원 |\n",
    "| 이민규 | 팀원 |\n",
    "| 이재성 | 팀원 |"
   ]
  },
  {
   "cell_type": "markdown",
   "id": "ec1c9d2e",
   "metadata": {},
   "source": [
    "# open/code 전처리"
   ]
  },
  {
   "cell_type": "code",
   "execution_count": 1,
   "id": "4e25591a",
   "metadata": {
    "ExecuteTime": {
     "end_time": "2022-06-06T11:30:08.652856Z",
     "start_time": "2022-06-06T11:29:57.029911Z"
    }
   },
   "outputs": [],
   "source": [
    "import os              # 운영체제 os\n",
    "import pandas as pd    # Pandas\n",
    "import numpy as np     # numpy \n",
    "import glob            # 파일을 읽어서 반환 glob \n",
    "from tqdm import tqdm  # 코드 진행 상황 확인\n",
    "from tensorflow.keras.preprocessing.sequence import pad_sequences\n",
    "from tensorflow.keras.preprocessing.text import Tokenizer\n",
    "\n",
    "CODE_FOLDER = \"./open/code/\""
   ]
  },
  {
   "cell_type": "code",
   "execution_count": 2,
   "id": "481a62e2",
   "metadata": {
    "ExecuteTime": {
     "end_time": "2022-06-06T11:30:08.715884Z",
     "start_time": "2022-06-06T11:30:08.657853Z"
    }
   },
   "outputs": [],
   "source": [
    "# open/code에 있는 모들 .py 파일을 읽어 데이터프레임으로 반환\n",
    "def make_df(path_name) :\n",
    "    problem_folders = os.listdir(path_name)                                 # 해당 경로의 모든 파일을 읽어 리스트로 반환\n",
    "    code_list = []                                                          # .py 파일이 저장될 code_list\n",
    "    problem_num = []                                                        # .py 파일의 problem 번호를 저장할 problem_num\n",
    "    problem_py_num = []\n",
    "    except_file = []                                                        # 문자열로 바뀐 .py 파일의 길이가 너무 길면 제외, 어떤 파일을 제외했는지 저장할 except_file\n",
    "    \n",
    "    for problem_folder in tqdm(problem_folders) :                \n",
    "        for py_file in glob.glob( path_name + problem_folder + \"/*.py\") :   # glob.glob 을 통해 .py 확장자가 붙은 파일만을 읽어옴.\n",
    "            py_code = []                                                    # 하나의 .py 파일의 내용을 담을 py_code, 파일을 새로 열때마다 초기화. \n",
    "            long_annotation = 0                                             # 긴줄 주석 여부를 확인하는 long_annotation\n",
    "            long_str = 0\n",
    "                        \n",
    "            with open(py_file, 'r', encoding='utf-8') as file :\n",
    "                lines = file.readlines()                                    # readlines() 를 통해 파일의 모든 내용을 문자열로 반환\n",
    "                \n",
    "                for line in lines :                                         # 그 중 리스트 요소 하나에 해당하는 라인 한줄에 대해서 진행\n",
    "                    line = line.rstrip().lstrip()                           #  문자열 앞 뒤로 공백 제거\n",
    "                    \n",
    "                    # 만약 한 줄 주석으로 시작하면 새로 반복\n",
    "                    if line.startswith('#') :\n",
    "                        continue\n",
    "                    elif line.count('\"\"\"') == 0 and line.startswith('\\\"') and line[1:].endswith('\\\"') : # \"문자열\"\n",
    "                        continue  \n",
    "                    elif line.count(\"'''\") == 0 and line.startswith(\"\\'\") and line[1:].endswith(\"\\'\") :  # '문자열'\n",
    "                        continue\n",
    "                    \n",
    "                    # \"\"\"를 찾았을 때\n",
    "                    if line.count('\"\"\"') >= 1 : \n",
    "                        if line.count('\"\"\"') % 2 == 0 and line.startswith('\"\"\"') and line[3:].endswith('\"\"\"') :\n",
    "                            continue\n",
    "                        elif line.count(\"'''\") % 2 == 0 and line.startswith(\"'''\") and line[3:].endswith(\"'''\") :\n",
    "                            continue  \n",
    "    \n",
    "                    if line.count('\"\"\"') % 2 != 0 and long_annotation == 0 and long_str == 0 : \n",
    "                        if line.startswith('\"\"\"') :         \n",
    "                            long_annotation = 1                          \n",
    "                            continue\n",
    "                        else : \n",
    "                            long_str = 1\n",
    "                    elif line.count('\"\"\"') % 2 != 0 and long_annotation == 1 and long_str == 0 :\n",
    "                        long_annotation = 0\n",
    "                        continue    \n",
    "                    elif line.count('\"\"\"') % 2 != 0 and long_annotation == 0 and long_str == 1 :\n",
    "                        long_str = 0\n",
    "                    \n",
    "                    # '''를 찾았을 때\n",
    "                    if line.count(\"'''\") >= 1 : \n",
    "                        if line.count('\"\"\"') % 2 == 0 and line.startswith('\"\"\"') and line[3:].endswith('\"\"\"') :\n",
    "                            continue\n",
    "                        elif line.count(\"'''\") % 2 == 0 and line.startswith(\"'''\") and line[3:].endswith(\"'''\") :\n",
    "                            continue  \n",
    "    \n",
    "                    if line.count(\"'''\") % 2 != 0 and long_annotation == 0 and long_str == 0 : \n",
    "                        if line.startswith(\"'''\") :         \n",
    "                            long_annotation = 1                          \n",
    "                            continue\n",
    "                        else : \n",
    "                            long_str = 1\n",
    "                    elif line.count(\"'''\") % 2 != 0 and long_annotation == 1 and long_str == 0 :\n",
    "                        long_annotation = 0\n",
    "                        continue    \n",
    "                    elif line.count(\"'''\") % 2 != 0 and long_annotation == 0 and long_str == 1 :\n",
    "                        long_str = 0\n",
    "                    \n",
    "                    \n",
    "                    if long_annotation == 1 :                              # 위에 조건문을 통해서 긴 줄 주석이 없는데 long_annotation이 1이면 \n",
    "                        continue                                           # 다음 라인 탐색\n",
    "                    \n",
    "                    if '#' in line :                                        # 문자열 내에 '#'이 있을 경우\n",
    "                        if line[:line.index('#')].count('\\'') % 2 == 0 and line[line.index('#'):].count('\\'') % 2 == 0 :\n",
    "                            line = line[:line.index('#')]                   # '#'을 기준으로 앞,뒤 각각에서 문자열사용이 끝났을 경우 \n",
    "                                                                            # '#'은 코드 뒤에서 선언된 한줄 주석이므로 '#' 전까지만 사용\n",
    "                        elif line[:line.index('#')].count('\\\"') % 2 == 0 and line[line.index('#'):].count('\\\"') % 2 == 0 :\n",
    "                            line = line[:line.index('#')]                   # 아래는 큰 따옴표에 대해서도 똑같이 조건문 진행.\n",
    "                        \n",
    "                    line = line.replace('\\n','')                            # 조건문들을 지나왔으면 줄바꿈 이스케이프 문자는 공백으로\n",
    "                    line = line.replace('    ','\\t')                        # 4칸 공백은 수평탭 이스케이프 문자로 변환\n",
    "                                                                            # 이때 2칸 공백에 대해 사용하지 않은 것은 4칸과는 달리 코드 곳곳 어디에서나 사용될 수 있기 때문이다.\n",
    "                    if line == '':                                          # 치환 후 해당 라인이 공백이면\n",
    "                        continue                                            # 다음 라인 탐색\n",
    "                        \n",
    "                    py_code.append(line)                                    # 위의 조건문들에 해당하지 않으면 py_code에 추가.\n",
    "            \n",
    "            temp_str = '\\n'.join(py_code)                                   # 파일 하나에 대해서 전처리가 끝났으면 줄바꿈 이스케이프 문자로 join연산을 통해 문자열로 반환.\n",
    "            if temp_str == '' :                                             # 전처리 후의 파일 하나가 공백이라면 \n",
    "                continue                                                    # 다음 파일을 탐색\n",
    "            elif len(temp_str) >= 6000 :                                   # 엑셀의 셀 하나의 최대 글자는  32,767이지만 그냥 6,000으로 했다.\n",
    "                except_file.append(py_file)                                 # 아무튼 코드 파일 하나가 너무 길면 except_file에 추가하고 다음 파일을 탐색\n",
    "                continue\n",
    "            else :\n",
    "                code_list.append(temp_str)                                  # 그 외는 code_list에 파일 하나를 뜻하는 문자열 추가\n",
    "                problem_num.append(int(problem_folder[7:]))                 # 그 파일이 어떤 problem 폴더에 있는지 나타내는 problem_num에도 추가한다.\n",
    "                problem_py_num.append(py_file[12:])\n",
    "            \n",
    "    print(except_file)                                                      # 3중 for문을 통해 모든 파일을 탐색하고 나서 제외된 파일 출력.\n",
    "   \n",
    "    df = pd.DataFrame({'code' : code_list, 'problem_num' : problem_num, 'py_file' : problem_py_num})     # 코드 내용을 나타내는 code_list와 그 코드가 갖는 결과를 나타내는 problem_num을 데이터 프레임 생성\n",
    "    df.drop_duplicates(['code'], inplace = True, ignore_index = True)                             # 한 코드가 다른 하나의 완전히 똑같은 코드가 30개 있다. 중복 제\n",
    "    return df"
   ]
  },
  {
   "cell_type": "code",
   "execution_count": 3,
   "id": "44610cea",
   "metadata": {
    "ExecuteTime": {
     "end_time": "2022-06-06T11:34:38.701138Z",
     "start_time": "2022-06-06T11:30:08.717889Z"
    }
   },
   "outputs": [
    {
     "name": "stderr",
     "output_type": "stream",
     "text": [
      "100%|████████████████████████████████████████████████████████████████████████████████| 300/300 [04:29<00:00,  1.11it/s]"
     ]
    },
    {
     "name": "stdout",
     "output_type": "stream",
     "text": [
      "['./open/code/problem094\\\\problem094_117.py', './open/code/problem094\\\\problem094_70.py', './open/code/problem117\\\\problem117_67.py', './open/code/problem295\\\\problem295_121.py']\n"
     ]
    },
    {
     "name": "stderr",
     "output_type": "stream",
     "text": [
      "\n"
     ]
    }
   ],
   "source": [
    "dataset = make_df(CODE_FOLDER)"
   ]
  },
  {
   "cell_type": "markdown",
   "id": "d5c52128",
   "metadata": {},
   "source": [
    "```\n",
    "problem037\\problem037_63.py    4,603   - 답도 없는 이상한 문자열 있음\n",
    "problem073\\problem073_40.py      1,069    - 변수 중 숫자를 쓰는게 있는데 10만,100만 단위임\n",
    "problem074\\problem074_7.py      1,400    - 테스트 한답시고 (1) 변수 사용 \n",
    "problem085\\problem085_101.py      1,912    - 테스트 한답시고 (1) 변수 사용 \n",
    "problem093\\problem093_64.py    1,786    - 테스트 한답시고 (1) 변수 사용 \n",
    "problem093\\problem093_67.py    3,152    - 테스트 한답시고 (1) 변수 사용 \n",
    "problem095\\problem095_50.py    1,192    - 답도 없는 이상한 문자열 있음\n",
    "problem174\\problem174_31.py    1,723    - 변수 중 숫자를 쓰는게 있는데 10만,100만 단위임\n",
    "problem174\\problem174_81.py    1,467    - 변수 중 숫자를 쓰는게 있는데 10만,100만 단위임\n",
    "\n",
    "\n",
    "(1) 이런 변수가 5~ 8 개 있음.\n",
    "T1 = \"\"\"\n",
    "3\n",
    "3 4 5\n",
    "\"\"\"\n",
    "TEST_T1 = \"\"\"\n",
    ">>> as_input(T1)\n",
    ">>> main()\n",
    "pairwise coprime\n",
    "\"\"\"\n",
    "\n",
    "```"
   ]
  },
  {
   "cell_type": "code",
   "execution_count": 4,
   "id": "d6f1e387",
   "metadata": {
    "ExecuteTime": {
     "end_time": "2022-06-06T11:34:38.717109Z",
     "start_time": "2022-06-06T11:34:38.706114Z"
    }
   },
   "outputs": [],
   "source": [
    "temp_index = []\n",
    "li = ['problem037\\problem037_63.py',\n",
    "      'problem073\\problem073_40.py',\n",
    "      'problem074\\problem074_7.py',\n",
    "      'problem085\\problem085_101.py',\n",
    "      'problem093\\problem093_64.py',\n",
    "      'problem093\\problem093_67.py',\n",
    "      'problem095\\problem095_50.py',\n",
    "      'problem174\\problem174_31.py',\n",
    "      'problem174\\problem174_81.py']"
   ]
  },
  {
   "cell_type": "code",
   "execution_count": 5,
   "id": "aa04fce7",
   "metadata": {
    "ExecuteTime": {
     "end_time": "2022-06-06T11:34:38.812053Z",
     "start_time": "2022-06-06T11:34:38.721108Z"
    }
   },
   "outputs": [
    {
     "data": {
      "text/plain": [
       "[5525, 10912, 11094, 12627, 13938, 13941, 14221, 26067, 26122]"
      ]
     },
     "execution_count": 5,
     "metadata": {},
     "output_type": "execute_result"
    }
   ],
   "source": [
    "for i in li :\n",
    "    temp_index.append(dataset[dataset['py_file'] == i].index[0])\n",
    "    \n",
    "temp_index"
   ]
  },
  {
   "cell_type": "code",
   "execution_count": 6,
   "id": "17fddfb6",
   "metadata": {
    "ExecuteTime": {
     "end_time": "2022-06-06T11:34:38.843037Z",
     "start_time": "2022-06-06T11:34:38.815055Z"
    }
   },
   "outputs": [],
   "source": [
    "dataset.drop(index = temp_index, inplace = True)\n",
    "dataset = pd.concat([dataset] , ignore_index = True)"
   ]
  },
  {
   "cell_type": "code",
   "execution_count": 7,
   "id": "c520985b",
   "metadata": {
    "ExecuteTime": {
     "end_time": "2022-06-06T11:34:38.889010Z",
     "start_time": "2022-06-06T11:34:38.846034Z"
    }
   },
   "outputs": [
    {
     "data": {
      "text/html": [
       "<div>\n",
       "<style scoped>\n",
       "    .dataframe tbody tr th:only-of-type {\n",
       "        vertical-align: middle;\n",
       "    }\n",
       "\n",
       "    .dataframe tbody tr th {\n",
       "        vertical-align: top;\n",
       "    }\n",
       "\n",
       "    .dataframe thead th {\n",
       "        text-align: right;\n",
       "    }\n",
       "</style>\n",
       "<table border=\"1\" class=\"dataframe\">\n",
       "  <thead>\n",
       "    <tr style=\"text-align: right;\">\n",
       "      <th></th>\n",
       "      <th>code</th>\n",
       "      <th>problem_num</th>\n",
       "      <th>py_file</th>\n",
       "    </tr>\n",
       "  </thead>\n",
       "  <tbody>\n",
       "    <tr>\n",
       "      <th>0</th>\n",
       "      <td>M = 9\\nN = 9\\ndef main():\\nfor i in range(1,M+...</td>\n",
       "      <td>1</td>\n",
       "      <td>problem001\\problem001_1.py</td>\n",
       "    </tr>\n",
       "    <tr>\n",
       "      <th>1</th>\n",
       "      <td>list1 = range(1,10)\\nlist2 = list1\\nfor i in l...</td>\n",
       "      <td>1</td>\n",
       "      <td>problem001\\problem001_10.py</td>\n",
       "    </tr>\n",
       "    <tr>\n",
       "      <th>2</th>\n",
       "      <td>for x in range(1, 10):\\nfor y in range(1, 10):...</td>\n",
       "      <td>1</td>\n",
       "      <td>problem001\\problem001_100.py</td>\n",
       "    </tr>\n",
       "    <tr>\n",
       "      <th>3</th>\n",
       "      <td>for i in range(1,10):\\nfor n in range(1, 10):\\...</td>\n",
       "      <td>1</td>\n",
       "      <td>problem001\\problem001_101.py</td>\n",
       "    </tr>\n",
       "    <tr>\n",
       "      <th>4</th>\n",
       "      <td>for i in range(1,10):\\nfor k in range(1,10):\\n...</td>\n",
       "      <td>1</td>\n",
       "      <td>problem001\\problem001_102.py</td>\n",
       "    </tr>\n",
       "    <tr>\n",
       "      <th>...</th>\n",
       "      <td>...</td>\n",
       "      <td>...</td>\n",
       "      <td>...</td>\n",
       "    </tr>\n",
       "    <tr>\n",
       "      <th>45051</th>\n",
       "      <td>def prime_factorize(n):\\na = [1]\\nwhile n % 2 ...</td>\n",
       "      <td>300</td>\n",
       "      <td>problem300\\problem300_95.py</td>\n",
       "    </tr>\n",
       "    <tr>\n",
       "      <th>45052</th>\n",
       "      <td>import math\\nA,B = map(int,input().split())\\ng...</td>\n",
       "      <td>300</td>\n",
       "      <td>problem300\\problem300_96.py</td>\n",
       "    </tr>\n",
       "    <tr>\n",
       "      <th>45053</th>\n",
       "      <td>def prime_factorization(n):\\ntable = []\\nfor x...</td>\n",
       "      <td>300</td>\n",
       "      <td>problem300\\problem300_97.py</td>\n",
       "    </tr>\n",
       "    <tr>\n",
       "      <th>45054</th>\n",
       "      <td>import fractions\\nimport math\\ndef primefac(n)...</td>\n",
       "      <td>300</td>\n",
       "      <td>problem300\\problem300_98.py</td>\n",
       "    </tr>\n",
       "    <tr>\n",
       "      <th>45055</th>\n",
       "      <td>from math import gcd\\nfrom itertools import co...</td>\n",
       "      <td>300</td>\n",
       "      <td>problem300\\problem300_99.py</td>\n",
       "    </tr>\n",
       "  </tbody>\n",
       "</table>\n",
       "<p>45056 rows × 3 columns</p>\n",
       "</div>"
      ],
      "text/plain": [
       "                                                    code  problem_num  \\\n",
       "0      M = 9\\nN = 9\\ndef main():\\nfor i in range(1,M+...            1   \n",
       "1      list1 = range(1,10)\\nlist2 = list1\\nfor i in l...            1   \n",
       "2      for x in range(1, 10):\\nfor y in range(1, 10):...            1   \n",
       "3      for i in range(1,10):\\nfor n in range(1, 10):\\...            1   \n",
       "4      for i in range(1,10):\\nfor k in range(1,10):\\n...            1   \n",
       "...                                                  ...          ...   \n",
       "45051  def prime_factorize(n):\\na = [1]\\nwhile n % 2 ...          300   \n",
       "45052  import math\\nA,B = map(int,input().split())\\ng...          300   \n",
       "45053  def prime_factorization(n):\\ntable = []\\nfor x...          300   \n",
       "45054  import fractions\\nimport math\\ndef primefac(n)...          300   \n",
       "45055  from math import gcd\\nfrom itertools import co...          300   \n",
       "\n",
       "                            py_file  \n",
       "0        problem001\\problem001_1.py  \n",
       "1       problem001\\problem001_10.py  \n",
       "2      problem001\\problem001_100.py  \n",
       "3      problem001\\problem001_101.py  \n",
       "4      problem001\\problem001_102.py  \n",
       "...                             ...  \n",
       "45051   problem300\\problem300_95.py  \n",
       "45052   problem300\\problem300_96.py  \n",
       "45053   problem300\\problem300_97.py  \n",
       "45054   problem300\\problem300_98.py  \n",
       "45055   problem300\\problem300_99.py  \n",
       "\n",
       "[45056 rows x 3 columns]"
      ]
     },
     "execution_count": 7,
     "metadata": {},
     "output_type": "execute_result"
    }
   ],
   "source": [
    "dataset"
   ]
  },
  {
   "cell_type": "code",
   "execution_count": 8,
   "id": "3319d9b0",
   "metadata": {
    "ExecuteTime": {
     "end_time": "2022-06-06T11:34:38.905001Z",
     "start_time": "2022-06-06T11:34:38.894010Z"
    }
   },
   "outputs": [],
   "source": [
    "tokenizer = Tokenizer()"
   ]
  },
  {
   "cell_type": "code",
   "execution_count": 9,
   "id": "c7e51adf",
   "metadata": {
    "ExecuteTime": {
     "end_time": "2022-06-06T11:34:41.741221Z",
     "start_time": "2022-06-06T11:34:38.908998Z"
    }
   },
   "outputs": [],
   "source": [
    "tokenizer.fit_on_texts(dataset['code'])"
   ]
  },
  {
   "cell_type": "code",
   "execution_count": 10,
   "id": "1779b90f",
   "metadata": {
    "ExecuteTime": {
     "end_time": "2022-06-06T11:34:43.961355Z",
     "start_time": "2022-06-06T11:34:41.746721Z"
    }
   },
   "outputs": [],
   "source": [
    "sequence = tokenizer.texts_to_sequences(dataset['code'])"
   ]
  },
  {
   "cell_type": "code",
   "execution_count": 11,
   "id": "78c08981",
   "metadata": {
    "ExecuteTime": {
     "end_time": "2022-06-06T11:34:43.991953Z",
     "start_time": "2022-06-06T11:34:43.961355Z"
    }
   },
   "outputs": [],
   "source": [
    "ds_list = []\n",
    "\n",
    "for i in range(len(sequence)) :\n",
    "    if len(sequence[i]) > 256 :\n",
    "        ds_list.append(i)\n",
    "        \n",
    "    "
   ]
  },
  {
   "cell_type": "code",
   "execution_count": 12,
   "id": "f0103006",
   "metadata": {
    "ExecuteTime": {
     "end_time": "2022-06-06T11:34:44.007944Z",
     "start_time": "2022-06-06T11:34:43.997949Z"
    }
   },
   "outputs": [
    {
     "data": {
      "text/plain": [
       "586"
      ]
     },
     "execution_count": 12,
     "metadata": {},
     "output_type": "execute_result"
    }
   ],
   "source": [
    "len(ds_list)"
   ]
  },
  {
   "cell_type": "code",
   "execution_count": 17,
   "id": "8d9afa8e",
   "metadata": {
    "ExecuteTime": {
     "end_time": "2022-06-02T10:32:56.905066Z",
     "start_time": "2022-06-02T10:32:56.873089Z"
    }
   },
   "outputs": [],
   "source": [
    "dataset.drop(index = ds_list, inplace = True)\n",
    "dataset = pd.concat([dataset], ignore_index = True)"
   ]
  },
  {
   "cell_type": "code",
   "execution_count": 18,
   "id": "637d213b",
   "metadata": {
    "ExecuteTime": {
     "end_time": "2022-06-02T10:32:59.190582Z",
     "start_time": "2022-06-02T10:32:59.175589Z"
    }
   },
   "outputs": [
    {
     "data": {
      "text/html": [
       "<div>\n",
       "<style scoped>\n",
       "    .dataframe tbody tr th:only-of-type {\n",
       "        vertical-align: middle;\n",
       "    }\n",
       "\n",
       "    .dataframe tbody tr th {\n",
       "        vertical-align: top;\n",
       "    }\n",
       "\n",
       "    .dataframe thead th {\n",
       "        text-align: right;\n",
       "    }\n",
       "</style>\n",
       "<table border=\"1\" class=\"dataframe\">\n",
       "  <thead>\n",
       "    <tr style=\"text-align: right;\">\n",
       "      <th></th>\n",
       "      <th>code</th>\n",
       "      <th>problem_num</th>\n",
       "      <th>py_file</th>\n",
       "    </tr>\n",
       "  </thead>\n",
       "  <tbody>\n",
       "    <tr>\n",
       "      <th>0</th>\n",
       "      <td>M = 9\\nN = 9\\ndef main():\\nfor i in range(1,M+...</td>\n",
       "      <td>1</td>\n",
       "      <td>problem001\\problem001_1.py</td>\n",
       "    </tr>\n",
       "    <tr>\n",
       "      <th>1</th>\n",
       "      <td>list1 = range(1,10)\\nlist2 = list1\\nfor i in l...</td>\n",
       "      <td>1</td>\n",
       "      <td>problem001\\problem001_10.py</td>\n",
       "    </tr>\n",
       "    <tr>\n",
       "      <th>2</th>\n",
       "      <td>for x in range(1, 10):\\nfor y in range(1, 10):...</td>\n",
       "      <td>1</td>\n",
       "      <td>problem001\\problem001_100.py</td>\n",
       "    </tr>\n",
       "    <tr>\n",
       "      <th>3</th>\n",
       "      <td>for i in range(1,10):\\nfor n in range(1, 10):\\...</td>\n",
       "      <td>1</td>\n",
       "      <td>problem001\\problem001_101.py</td>\n",
       "    </tr>\n",
       "    <tr>\n",
       "      <th>4</th>\n",
       "      <td>for i in range(1,10):\\nfor k in range(1,10):\\n...</td>\n",
       "      <td>1</td>\n",
       "      <td>problem001\\problem001_102.py</td>\n",
       "    </tr>\n",
       "    <tr>\n",
       "      <th>...</th>\n",
       "      <td>...</td>\n",
       "      <td>...</td>\n",
       "      <td>...</td>\n",
       "    </tr>\n",
       "    <tr>\n",
       "      <th>40259</th>\n",
       "      <td>def prime_factorize(n):\\na = [1]\\nwhile n % 2 ...</td>\n",
       "      <td>300</td>\n",
       "      <td>problem300\\problem300_95.py</td>\n",
       "    </tr>\n",
       "    <tr>\n",
       "      <th>40260</th>\n",
       "      <td>import math\\nA,B = map(int,input().split())\\ng...</td>\n",
       "      <td>300</td>\n",
       "      <td>problem300\\problem300_96.py</td>\n",
       "    </tr>\n",
       "    <tr>\n",
       "      <th>40261</th>\n",
       "      <td>def prime_factorization(n):\\ntable = []\\nfor x...</td>\n",
       "      <td>300</td>\n",
       "      <td>problem300\\problem300_97.py</td>\n",
       "    </tr>\n",
       "    <tr>\n",
       "      <th>40262</th>\n",
       "      <td>import fractions\\nimport math\\ndef primefac(n)...</td>\n",
       "      <td>300</td>\n",
       "      <td>problem300\\problem300_98.py</td>\n",
       "    </tr>\n",
       "    <tr>\n",
       "      <th>40263</th>\n",
       "      <td>from math import gcd\\nfrom itertools import co...</td>\n",
       "      <td>300</td>\n",
       "      <td>problem300\\problem300_99.py</td>\n",
       "    </tr>\n",
       "  </tbody>\n",
       "</table>\n",
       "<p>40264 rows × 3 columns</p>\n",
       "</div>"
      ],
      "text/plain": [
       "                                                    code  problem_num  \\\n",
       "0      M = 9\\nN = 9\\ndef main():\\nfor i in range(1,M+...            1   \n",
       "1      list1 = range(1,10)\\nlist2 = list1\\nfor i in l...            1   \n",
       "2      for x in range(1, 10):\\nfor y in range(1, 10):...            1   \n",
       "3      for i in range(1,10):\\nfor n in range(1, 10):\\...            1   \n",
       "4      for i in range(1,10):\\nfor k in range(1,10):\\n...            1   \n",
       "...                                                  ...          ...   \n",
       "40259  def prime_factorize(n):\\na = [1]\\nwhile n % 2 ...          300   \n",
       "40260  import math\\nA,B = map(int,input().split())\\ng...          300   \n",
       "40261  def prime_factorization(n):\\ntable = []\\nfor x...          300   \n",
       "40262  import fractions\\nimport math\\ndef primefac(n)...          300   \n",
       "40263  from math import gcd\\nfrom itertools import co...          300   \n",
       "\n",
       "                            py_file  \n",
       "0        problem001\\problem001_1.py  \n",
       "1       problem001\\problem001_10.py  \n",
       "2      problem001\\problem001_100.py  \n",
       "3      problem001\\problem001_101.py  \n",
       "4      problem001\\problem001_102.py  \n",
       "...                             ...  \n",
       "40259   problem300\\problem300_95.py  \n",
       "40260   problem300\\problem300_96.py  \n",
       "40261   problem300\\problem300_97.py  \n",
       "40262   problem300\\problem300_98.py  \n",
       "40263   problem300\\problem300_99.py  \n",
       "\n",
       "[40264 rows x 3 columns]"
      ]
     },
     "execution_count": 18,
     "metadata": {},
     "output_type": "execute_result"
    }
   ],
   "source": [
    "dataset"
   ]
  },
  {
   "cell_type": "code",
   "execution_count": 19,
   "id": "998bd603",
   "metadata": {
    "ExecuteTime": {
     "end_time": "2022-06-02T10:34:09.285280Z",
     "start_time": "2022-06-02T10:34:08.847171Z"
    }
   },
   "outputs": [],
   "source": [
    "dataset.to_csv('./open_code_종합.csv')"
   ]
  },
  {
   "cell_type": "code",
   "execution_count": null,
   "id": "06171d26",
   "metadata": {},
   "outputs": [],
   "source": []
  },
  {
   "cell_type": "markdown",
   "id": "0860e408",
   "metadata": {},
   "source": [
    "# train 데이터 생성"
   ]
  },
  {
   "cell_type": "code",
   "execution_count": 21,
   "id": "44433f73",
   "metadata": {
    "ExecuteTime": {
     "end_time": "2022-06-02T10:35:11.000823Z",
     "start_time": "2022-06-02T10:35:10.677688Z"
    }
   },
   "outputs": [],
   "source": [
    "dataset = pd.read_csv('./open_code_종합.csv', index_col=0)"
   ]
  },
  {
   "cell_type": "code",
   "execution_count": 22,
   "id": "591318ad",
   "metadata": {
    "ExecuteTime": {
     "end_time": "2022-06-02T10:35:37.208433Z",
     "start_time": "2022-06-02T10:35:37.186445Z"
    }
   },
   "outputs": [
    {
     "data": {
      "text/html": [
       "<div>\n",
       "<style scoped>\n",
       "    .dataframe tbody tr th:only-of-type {\n",
       "        vertical-align: middle;\n",
       "    }\n",
       "\n",
       "    .dataframe tbody tr th {\n",
       "        vertical-align: top;\n",
       "    }\n",
       "\n",
       "    .dataframe thead th {\n",
       "        text-align: right;\n",
       "    }\n",
       "</style>\n",
       "<table border=\"1\" class=\"dataframe\">\n",
       "  <thead>\n",
       "    <tr style=\"text-align: right;\">\n",
       "      <th></th>\n",
       "      <th>code1</th>\n",
       "      <th>c1_problem_name</th>\n",
       "      <th>code2</th>\n",
       "      <th>c2_problem_name</th>\n",
       "      <th>similar</th>\n",
       "    </tr>\n",
       "  </thead>\n",
       "  <tbody>\n",
       "  </tbody>\n",
       "</table>\n",
       "</div>"
      ],
      "text/plain": [
       "Empty DataFrame\n",
       "Columns: [code1, c1_problem_name, code2, c2_problem_name, similar]\n",
       "Index: []"
      ]
     },
     "execution_count": 22,
     "metadata": {},
     "output_type": "execute_result"
    }
   ],
   "source": [
    "train_df = pd.DataFrame(columns = ['code1', 'c1_problem_name', 'code2', 'c2_problem_name', 'similar'])  # 트레인 데이터를 가리키는 빈 데이터 프레임 생성.\n",
    "train_df"
   ]
  },
  {
   "cell_type": "code",
   "execution_count": 23,
   "id": "8efc7d66",
   "metadata": {
    "ExecuteTime": {
     "end_time": "2022-06-02T10:35:51.989333Z",
     "start_time": "2022-06-02T10:35:51.966347Z"
    }
   },
   "outputs": [],
   "source": [
    "def make_train_df(dataset_len, df = dataset) :                              # 트레인 데이터를 만드는 make_train_df 함수. 반복작업으로 하는게 좋지만 귀찮아서 만든 조잡한 사용자 정의 함수이다.\n",
    "    result = pd.DataFrame()                                                 # 반환할 데이터 프레임\n",
    "    cnt = 0                                                                 # 반환할 데이터 프레임의 길이.\n",
    "    \n",
    "    while cnt < dataset_len :                                               # 중첩 반복문\n",
    "        df_list = []                                                        # 안쪽의 for문으로 얻은 데이터 프레임을 저장할 df_list\n",
    "        for j in range(10000) :                                             # 10,000번 반복\n",
    "            temp_df = train_df.copy()                                       # train_df의 구조를 복사\n",
    "            sim_num = 0                                                     # 코드 유사성 변수 sim_num\n",
    "            \n",
    "            #r = np.random.randint(1, 301, size = 2)                         # problem 300개 중에 2개 뽑기\n",
    "            \n",
    "            while True :\n",
    "                r = np.random.randint(1, 301, size = 2)                     \n",
    "                \n",
    "                if r[0] != 209 and r[1] != 209 :\n",
    "                    break\n",
    "            \n",
    "            if r[0] == r[1] :                                               # 만약 뽑은 2개가 같으면 유사성 True\n",
    "                sim_num = 1\n",
    "                \n",
    "            if sim_num == 0 and cnt >= dataset_len / 2 :                    # 뽑은 코드 유사성이 False고, 현재 만든 데이터가 전체의 절반이 넘으면 반복\n",
    "                continue                                                    # 이유는 True 데이터가 그만큼 안만들어진다. 대략 10,000개 만들면 40~50개.\n",
    "            \n",
    "            c1 = np.random.choice(df[df['problem_num'] == r[0]]['code'])    # 각자 해당하면 problem 폴더의 랜덤 코드를 뽑는다.\n",
    "            c2 = np.random.choice(df[df['problem_num'] == r[1]]['code']) \n",
    "            \n",
    "            temp_df.loc[0] = c1, r[0], c2, r[1], sim_num                    # 위에서 복사한 형식대로 temp_df를 얻고\n",
    "            \n",
    "            df_list.append(temp_df)                                         # df_list에 temp_df 추가\n",
    "            \n",
    "        cnt += len(df_list)                                                 # cnt에 df_list의 길이 만큼 증가\n",
    "        print(cnt ,end = ' ')                                               # tqdm보다 이게 보기 편할 거 같아서 print(cnt)\n",
    "        res = pd.concat(df_list , axis = 0)                                 # df_list를 데이터프레임으로 만들고\n",
    "        result = pd.concat([result, res], ignore_index = True)              # 최종 반환할 데이터 프레임과 병합\n",
    "        \n",
    "    result = result.sample(frac=1, ignore_index=True)[:dataset_len]         # 반환할 데이터 프레임을 랜덤으로 섞고 반환\n",
    "            \n",
    "    return result"
   ]
  },
  {
   "cell_type": "code",
   "execution_count": 25,
   "id": "451c4e37",
   "metadata": {
    "ExecuteTime": {
     "end_time": "2022-06-02T10:38:22.604448Z",
     "start_time": "2022-06-02T10:38:22.585466Z"
    }
   },
   "outputs": [],
   "source": [
    "train_len = 500000                   # 트레인 길이 조절 \n",
    "\n",
    "train = make_train_df(train_len)"
   ]
  },
  {
   "cell_type": "code",
   "execution_count": null,
   "id": "3026a50d",
   "metadata": {
    "ExecuteTime": {
     "end_time": "2022-06-02T10:38:16.924246Z",
     "start_time": "2022-06-02T10:38:16.924246Z"
    }
   },
   "outputs": [],
   "source": [
    "train['similar'].value_counts()"
   ]
  },
  {
   "cell_type": "code",
   "execution_count": null,
   "id": "468f8e13",
   "metadata": {
    "ExecuteTime": {
     "end_time": "2022-06-02T10:38:16.927245Z",
     "start_time": "2022-06-02T10:38:16.927245Z"
    }
   },
   "outputs": [],
   "source": [
    "train.to_csv('./open_code_train.csv')"
   ]
  },
  {
   "cell_type": "code",
   "execution_count": null,
   "id": "c8b1bbe3",
   "metadata": {
    "ExecuteTime": {
     "end_time": "2022-06-02T10:38:16.930240Z",
     "start_time": "2022-06-02T10:38:16.930240Z"
    }
   },
   "outputs": [],
   "source": [
    "train"
   ]
  },
  {
   "cell_type": "code",
   "execution_count": null,
   "id": "017fc22d",
   "metadata": {},
   "outputs": [],
   "source": []
  },
  {
   "cell_type": "markdown",
   "id": "e0335d09",
   "metadata": {},
   "source": [
    "# 테스트 파일 전처리"
   ]
  },
  {
   "cell_type": "code",
   "execution_count": 26,
   "id": "b74a6f87",
   "metadata": {
    "ExecuteTime": {
     "end_time": "2022-06-02T10:38:31.602573Z",
     "start_time": "2022-06-02T10:38:29.025713Z"
    }
   },
   "outputs": [],
   "source": [
    "test_df = pd.read_csv('./open/test.csv', encoding='utf-8')"
   ]
  },
  {
   "cell_type": "code",
   "execution_count": 27,
   "id": "473ceaa7",
   "metadata": {
    "ExecuteTime": {
     "end_time": "2022-06-02T10:38:31.649553Z",
     "start_time": "2022-06-02T10:38:31.604575Z"
    }
   },
   "outputs": [
    {
     "data": {
      "text/html": [
       "<div>\n",
       "<style scoped>\n",
       "    .dataframe tbody tr th:only-of-type {\n",
       "        vertical-align: middle;\n",
       "    }\n",
       "\n",
       "    .dataframe tbody tr th {\n",
       "        vertical-align: top;\n",
       "    }\n",
       "\n",
       "    .dataframe thead th {\n",
       "        text-align: right;\n",
       "    }\n",
       "</style>\n",
       "<table border=\"1\" class=\"dataframe\">\n",
       "  <thead>\n",
       "    <tr style=\"text-align: right;\">\n",
       "      <th></th>\n",
       "      <th>pair_id</th>\n",
       "      <th>code1</th>\n",
       "      <th>code2</th>\n",
       "    </tr>\n",
       "  </thead>\n",
       "  <tbody>\n",
       "    <tr>\n",
       "      <th>0</th>\n",
       "      <td>1</td>\n",
       "      <td>NaN</td>\n",
       "      <td>NaN</td>\n",
       "    </tr>\n",
       "    <tr>\n",
       "      <th>1</th>\n",
       "      <td>2</td>\n",
       "      <td>NaN</td>\n",
       "      <td>NaN</td>\n",
       "    </tr>\n",
       "    <tr>\n",
       "      <th>2</th>\n",
       "      <td>3</td>\n",
       "      <td>NaN</td>\n",
       "      <td>NaN</td>\n",
       "    </tr>\n",
       "    <tr>\n",
       "      <th>3</th>\n",
       "      <td>4</td>\n",
       "      <td>NaN</td>\n",
       "      <td>NaN</td>\n",
       "    </tr>\n",
       "    <tr>\n",
       "      <th>4</th>\n",
       "      <td>5</td>\n",
       "      <td>NaN</td>\n",
       "      <td>NaN</td>\n",
       "    </tr>\n",
       "    <tr>\n",
       "      <th>...</th>\n",
       "      <td>...</td>\n",
       "      <td>...</td>\n",
       "      <td>...</td>\n",
       "    </tr>\n",
       "    <tr>\n",
       "      <th>179695</th>\n",
       "      <td>179696</td>\n",
       "      <td>NaN</td>\n",
       "      <td>NaN</td>\n",
       "    </tr>\n",
       "    <tr>\n",
       "      <th>179696</th>\n",
       "      <td>179697</td>\n",
       "      <td>NaN</td>\n",
       "      <td>NaN</td>\n",
       "    </tr>\n",
       "    <tr>\n",
       "      <th>179697</th>\n",
       "      <td>179698</td>\n",
       "      <td>NaN</td>\n",
       "      <td>NaN</td>\n",
       "    </tr>\n",
       "    <tr>\n",
       "      <th>179698</th>\n",
       "      <td>179699</td>\n",
       "      <td>NaN</td>\n",
       "      <td>NaN</td>\n",
       "    </tr>\n",
       "    <tr>\n",
       "      <th>179699</th>\n",
       "      <td>179700</td>\n",
       "      <td>NaN</td>\n",
       "      <td>NaN</td>\n",
       "    </tr>\n",
       "  </tbody>\n",
       "</table>\n",
       "<p>179700 rows × 3 columns</p>\n",
       "</div>"
      ],
      "text/plain": [
       "        pair_id code1 code2\n",
       "0             1   NaN   NaN\n",
       "1             2   NaN   NaN\n",
       "2             3   NaN   NaN\n",
       "3             4   NaN   NaN\n",
       "4             5   NaN   NaN\n",
       "...         ...   ...   ...\n",
       "179695   179696   NaN   NaN\n",
       "179696   179697   NaN   NaN\n",
       "179697   179698   NaN   NaN\n",
       "179698   179699   NaN   NaN\n",
       "179699   179700   NaN   NaN\n",
       "\n",
       "[179700 rows x 3 columns]"
      ]
     },
     "execution_count": 27,
     "metadata": {},
     "output_type": "execute_result"
    }
   ],
   "source": [
    "result_df = pd.DataFrame(columns = test_df.columns)\n",
    "result_df['pair_id'] = test_df['pair_id'].copy()\n",
    "result_df"
   ]
  },
  {
   "cell_type": "code",
   "execution_count": 28,
   "id": "6e307fbc",
   "metadata": {
    "ExecuteTime": {
     "end_time": "2022-06-02T10:38:53.013599Z",
     "start_time": "2022-06-02T10:38:31.652549Z"
    }
   },
   "outputs": [
    {
     "name": "stderr",
     "output_type": "stream",
     "text": [
      "100%|████████████████████████████████████████████████████████████████████████| 179700/179700 [00:21<00:00, 8447.81it/s]\n"
     ]
    }
   ],
   "source": [
    "code_list = []\n",
    "\n",
    "for i in tqdm(range(len(test_df))) :\n",
    "    code_str = test_df['code1'][i].split('\\n')\n",
    "    py_code = []\n",
    "    long_annotation = 0\n",
    "    long_str = 0\n",
    "    \n",
    "    for line in code_str :                                     \n",
    "        line = line.rstrip().lstrip()                           \n",
    "                    \n",
    "        # 만약 한 줄 주석으로 시작하면 새로 반복\n",
    "        if line.startswith('#') :\n",
    "            continue\n",
    "        elif line.count('\"\"\"') == 0 and line.startswith('\\\"') and line[1:].endswith('\\\"') : # \"문자열\"\n",
    "            continue  \n",
    "        elif line.count(\"'''\") == 0 and line.startswith(\"\\'\") and line[1:].endswith(\"\\'\") :  # '문자열'\n",
    "            continue\n",
    "         \n",
    "        \n",
    "        # \"\"\"를 찾았을 때\n",
    "        if line.count('\"\"\"') >= 1 : \n",
    "            if line.count('\"\"\"') % 2 == 0 and line.startswith('\"\"\"') and line[3:].endswith('\"\"\"') :\n",
    "                continue\n",
    "            elif line.count(\"'''\") % 2 == 0 and line.startswith(\"'''\") and line[3:].endswith(\"'''\") :\n",
    "                continue  \n",
    "    \n",
    "        if line.count('\"\"\"') % 2 != 0 and long_annotation == 0 and long_str == 0 : \n",
    "            if line.startswith('\"\"\"') :         \n",
    "                long_annotation = 1                          \n",
    "                continue\n",
    "            else : \n",
    "                long_str = 1\n",
    "        elif line.count('\"\"\"') % 2 != 0 and long_annotation == 1 and long_str == 0 :\n",
    "            long_annotation = 0\n",
    "            continue    \n",
    "        elif line.count('\"\"\"') % 2 != 0 and long_annotation == 0 and long_str == 1 :\n",
    "            long_str = 0\n",
    "                    \n",
    "        # '''를 찾았을 때\n",
    "        if line.count(\"'''\") >= 1 : \n",
    "            if line.count('\"\"\"') % 2 == 0 and line.startswith('\"\"\"') and line[3:].endswith('\"\"\"') :\n",
    "                continue\n",
    "            elif line.count(\"'''\") % 2 == 0 and line.startswith(\"'''\") and line[3:].endswith(\"'''\") :\n",
    "                continue  \n",
    "    \n",
    "        if line.count(\"'''\") % 2 != 0 and long_annotation == 0 and long_str == 0 : \n",
    "            if line.startswith(\"'''\") :         \n",
    "                long_annotation = 1                          \n",
    "                continue\n",
    "            else : \n",
    "                long_str = 1\n",
    "        elif line.count(\"'''\") % 2 != 0 and long_annotation == 1 and long_str == 0 :\n",
    "            long_annotation = 0\n",
    "            continue    \n",
    "        elif line.count(\"'''\") % 2 != 0 and long_annotation == 0 and long_str == 1 :\n",
    "            long_str = 0\n",
    "                    \n",
    "                    \n",
    "        if long_annotation == 1 :                              # 위에 조건문을 통해서 긴 줄 주석이 없는데 long_annotation이 1이면 \n",
    "            continue       \n",
    "            \n",
    "        if '#' in line :                                        \n",
    "            if line[:line.index('#')].count('\\'') % 2 == 0 and line[line.index('#'):].count('\\'') % 2 == 0 :\n",
    "                line = line[:line.index('#')]                   \n",
    "                                                                \n",
    "            elif line[:line.index('#')].count('\\\"') % 2 == 0 and line[line.index('#'):].count('\\\"') % 2 == 0 :\n",
    "                line = line[:line.index('#')]                   \n",
    "                        \n",
    "        line = line.replace('\\n','')                            \n",
    "        line = line.replace('    ','\\t')                        \n",
    "                                                                \n",
    "        py_code.append(line) \n",
    "\n",
    "    temp_str = '\\n'.join(py_code)                               \n",
    "    code_list.append(temp_str)\n",
    "    \n",
    "result_df['code1'] = pd.DataFrame(code_list)"
   ]
  },
  {
   "cell_type": "code",
   "execution_count": null,
   "id": "5d955977",
   "metadata": {},
   "outputs": [],
   "source": []
  },
  {
   "cell_type": "code",
   "execution_count": 29,
   "id": "ea5f5682",
   "metadata": {
    "ExecuteTime": {
     "end_time": "2022-06-02T10:39:13.959327Z",
     "start_time": "2022-06-02T10:38:53.016605Z"
    }
   },
   "outputs": [
    {
     "name": "stderr",
     "output_type": "stream",
     "text": [
      "100%|████████████████████████████████████████████████████████████████████████| 179700/179700 [00:20<00:00, 8617.16it/s]\n"
     ]
    }
   ],
   "source": [
    "code_list = []\n",
    "\n",
    "for i in tqdm(range(len(test_df))) :\n",
    "    code_str = test_df['code2'][i].split('\\n')\n",
    "    py_code = []\n",
    "    long_annotation = 0\n",
    "    long_str = 0\n",
    "    \n",
    "    for line in code_str :                                     \n",
    "        line = line.rstrip().lstrip()                           \n",
    "                    \n",
    "        # 만약 한 줄 주석으로 시작하면 새로 반복\n",
    "        if line.startswith('#') :\n",
    "            continue\n",
    "        elif line.count('\"\"\"') == 0 and line.startswith('\\\"') and line[1:].endswith('\\\"') : # \"문자열\"\n",
    "            continue  \n",
    "        elif line.count(\"'''\") == 0 and line.startswith(\"\\'\") and line[1:].endswith(\"\\'\") :  # '문자열'\n",
    "            continue\n",
    "         \n",
    "        \n",
    "        # \"\"\"를 찾았을 때\n",
    "        if line.count('\"\"\"') >= 1 : \n",
    "            if line.count('\"\"\"') % 2 == 0 and line.startswith('\"\"\"') and line[3:].endswith('\"\"\"') :\n",
    "                continue\n",
    "            elif line.count(\"'''\") % 2 == 0 and line.startswith(\"'''\") and line[3:].endswith(\"'''\") :\n",
    "                continue  \n",
    "    \n",
    "        if line.count('\"\"\"') % 2 != 0 and long_annotation == 0 and long_str == 0 : \n",
    "            if line.startswith('\"\"\"') :         \n",
    "                long_annotation = 1                          \n",
    "                continue\n",
    "            else : \n",
    "                long_str = 1\n",
    "        elif line.count('\"\"\"') % 2 != 0 and long_annotation == 1 and long_str == 0 :\n",
    "            long_annotation = 0\n",
    "            continue    \n",
    "        elif line.count('\"\"\"') % 2 != 0 and long_annotation == 0 and long_str == 1 :\n",
    "            long_str = 0\n",
    "                    \n",
    "        # '''를 찾았을 때\n",
    "        if line.count(\"'''\") >= 1 : \n",
    "            if line.count('\"\"\"') % 2 == 0 and line.startswith('\"\"\"') and line[3:].endswith('\"\"\"') :\n",
    "                continue\n",
    "            elif line.count(\"'''\") % 2 == 0 and line.startswith(\"'''\") and line[3:].endswith(\"'''\") :\n",
    "                continue  \n",
    "    \n",
    "        if line.count(\"'''\") % 2 != 0 and long_annotation == 0 and long_str == 0 : \n",
    "            if line.startswith(\"'''\") :         \n",
    "                long_annotation = 1                          \n",
    "                continue\n",
    "            else : \n",
    "                long_str = 1\n",
    "        elif line.count(\"'''\") % 2 != 0 and long_annotation == 1 and long_str == 0 :\n",
    "            long_annotation = 0\n",
    "            continue    \n",
    "        elif line.count(\"'''\") % 2 != 0 and long_annotation == 0 and long_str == 1 :\n",
    "            long_str = 0\n",
    "                    \n",
    "                    \n",
    "        if long_annotation == 1 :                              # 위에 조건문을 통해서 긴 줄 주석이 없는데 long_annotation이 1이면 \n",
    "            continue       \n",
    "            \n",
    "        if '#' in line :                                        \n",
    "            if line[:line.index('#')].count('\\'') % 2 == 0 and line[line.index('#'):].count('\\'') % 2 == 0 :\n",
    "                line = line[:line.index('#')]                   \n",
    "                                                                \n",
    "            elif line[:line.index('#')].count('\\\"') % 2 == 0 and line[line.index('#'):].count('\\\"') % 2 == 0 :\n",
    "                line = line[:line.index('#')]                   \n",
    "                        \n",
    "        line = line.replace('\\n','')                            \n",
    "        line = line.replace('    ','\\t')                        \n",
    "                                                                \n",
    "        py_code.append(line) \n",
    "\n",
    "    temp_str = '\\n'.join(py_code)                               \n",
    "    code_list.append(temp_str)\n",
    "\n",
    "result_df['code2'] = pd.DataFrame(code_list)"
   ]
  },
  {
   "cell_type": "code",
   "execution_count": 35,
   "id": "7f1e197f",
   "metadata": {
    "ExecuteTime": {
     "end_time": "2022-06-02T10:42:45.617942Z",
     "start_time": "2022-06-02T10:42:40.937408Z"
    }
   },
   "outputs": [],
   "source": [
    "result_df.to_csv('./open_code_test.csv')"
   ]
  },
  {
   "cell_type": "code",
   "execution_count": null,
   "id": "3ddb1a50",
   "metadata": {},
   "outputs": [],
   "source": []
  },
  {
   "cell_type": "code",
   "execution_count": null,
   "id": "1401f5d0",
   "metadata": {},
   "outputs": [],
   "source": []
  },
  {
   "cell_type": "markdown",
   "id": "143fb026",
   "metadata": {},
   "source": [
    "# 모델"
   ]
  },
  {
   "cell_type": "code",
   "execution_count": 36,
   "id": "f1704bbf",
   "metadata": {
    "ExecuteTime": {
     "end_time": "2022-06-02T10:42:57.581552Z",
     "start_time": "2022-06-02T10:42:57.574555Z"
    }
   },
   "outputs": [],
   "source": [
    "# problem 파일 경로 Desktop/project/code_similarity/open/code\n",
    "\n",
    "# problem 폴더 안 예제 코드 확장자명 변경\n",
    "import os\n",
    "from tqdm import tqdm\n",
    "import sys\n",
    "import tensorflow as tf\n",
    "import json\n",
    "import datetime\n",
    "\n",
    "# .txt 병합\n",
    "import pandas as pd\n",
    "import numpy as np\n",
    "import sklearn\n",
    "\n",
    "#keras model import\n",
    "import keras"
   ]
  },
  {
   "cell_type": "code",
   "execution_count": 37,
   "id": "21d07c4c",
   "metadata": {
    "ExecuteTime": {
     "end_time": "2022-06-02T10:42:58.272497Z",
     "start_time": "2022-06-02T10:42:58.257509Z"
    }
   },
   "outputs": [],
   "source": [
    "from sklearn.model_selection import train_test_split\n",
    "from tensorflow.keras.preprocessing.sequence import pad_sequences\n",
    "from tensorflow.keras.preprocessing.text import Tokenizer\n",
    "from tensorflow.keras.models import Model\n",
    "from keras import Input, layers\n",
    "from tensorflow.keras.layers import Embedding, LSTM, Input, Lambda,Dropout\n",
    "from tensorflow.keras.callbacks import EarlyStopping\n",
    "from keras import backend as K\n",
    "from tensorflow.keras.optimizers import Adam\n",
    "#model save & load\n",
    "from keras.models import load_model"
   ]
  },
  {
   "cell_type": "code",
   "execution_count": 38,
   "id": "adf55066",
   "metadata": {
    "ExecuteTime": {
     "end_time": "2022-06-02T10:43:35.534290Z",
     "start_time": "2022-06-02T10:43:31.149335Z"
    }
   },
   "outputs": [],
   "source": [
    "train_data = pd.read_csv(\"./open_code_train.csv\", index_col = 0, encoding='utf-8')"
   ]
  },
  {
   "cell_type": "code",
   "execution_count": 39,
   "id": "c302f750",
   "metadata": {
    "ExecuteTime": {
     "end_time": "2022-06-02T10:43:35.614173Z",
     "start_time": "2022-06-02T10:43:35.537215Z"
    }
   },
   "outputs": [
    {
     "data": {
      "text/html": [
       "<div>\n",
       "<style scoped>\n",
       "    .dataframe tbody tr th:only-of-type {\n",
       "        vertical-align: middle;\n",
       "    }\n",
       "\n",
       "    .dataframe tbody tr th {\n",
       "        vertical-align: top;\n",
       "    }\n",
       "\n",
       "    .dataframe thead th {\n",
       "        text-align: right;\n",
       "    }\n",
       "</style>\n",
       "<table border=\"1\" class=\"dataframe\">\n",
       "  <thead>\n",
       "    <tr style=\"text-align: right;\">\n",
       "      <th></th>\n",
       "      <th>code1</th>\n",
       "      <th>code2</th>\n",
       "      <th>similar</th>\n",
       "    </tr>\n",
       "  </thead>\n",
       "  <tbody>\n",
       "    <tr>\n",
       "      <th>0</th>\n",
       "      <td>from collections import deque\\nmod = 10**9+7\\n...</td>\n",
       "      <td>from collections import deque\\nN, M = [int(x) ...</td>\n",
       "      <td>1</td>\n",
       "    </tr>\n",
       "    <tr>\n",
       "      <th>1</th>\n",
       "      <td>def selection_sort(numbers, n):\\ncounter = 0\\n...</td>\n",
       "      <td>n,x,t = map(int,(input().split()))\\ni = 1\\nwhi...</td>\n",
       "      <td>0</td>\n",
       "    </tr>\n",
       "    <tr>\n",
       "      <th>2</th>\n",
       "      <td>n,k,*a = map(int,open(0).read().split())\\ndef ...</td>\n",
       "      <td>n = int(input())\\nd = {}\\nt = 0\\nfor i in rang...</td>\n",
       "      <td>0</td>\n",
       "    </tr>\n",
       "    <tr>\n",
       "      <th>3</th>\n",
       "      <td>N = str(input())\\nprint(chr(ord(N)+1))</td>\n",
       "      <td>k = int(input())\\ns = input()\\nif len(s)&gt;k:\\np...</td>\n",
       "      <td>0</td>\n",
       "    </tr>\n",
       "    <tr>\n",
       "      <th>4</th>\n",
       "      <td>n, a, b = list(map(int, input().split()))\\np =...</td>\n",
       "      <td>import sys\\ninput = sys.stdin.buffer.readline\\...</td>\n",
       "      <td>0</td>\n",
       "    </tr>\n",
       "    <tr>\n",
       "      <th>...</th>\n",
       "      <td>...</td>\n",
       "      <td>...</td>\n",
       "      <td>...</td>\n",
       "    </tr>\n",
       "    <tr>\n",
       "      <th>499995</th>\n",
       "      <td>s=input()\\nans = 0\\nfor i in range(len(s)):\\nj...</td>\n",
       "      <td>while True:\\nhw = [int(x) for x in input().spl...</td>\n",
       "      <td>0</td>\n",
       "    </tr>\n",
       "    <tr>\n",
       "      <th>499996</th>\n",
       "      <td>import sys\\nn=int(input())\\nfor i in range(n+1...</td>\n",
       "      <td>N = int(input())\\na = int(N / 1.08) \\nb = int(...</td>\n",
       "      <td>1</td>\n",
       "    </tr>\n",
       "    <tr>\n",
       "      <th>499997</th>\n",
       "      <td>tmp = [int(e) for e in input().split()]\\na = t...</td>\n",
       "      <td>import sys\\nfrom functools import reduce\\ndef ...</td>\n",
       "      <td>1</td>\n",
       "    </tr>\n",
       "    <tr>\n",
       "      <th>499998</th>\n",
       "      <td>n = int(input())\\ns = [input() for _ in range(...</td>\n",
       "      <td>import math\\ndef main():\\n(N, M, K) = map(int,...</td>\n",
       "      <td>0</td>\n",
       "    </tr>\n",
       "    <tr>\n",
       "      <th>499999</th>\n",
       "      <td>s = list(input())\\nif s.count('A') == 3 or s.c...</td>\n",
       "      <td>import math\\na, b, C = map(int, input().split(...</td>\n",
       "      <td>0</td>\n",
       "    </tr>\n",
       "  </tbody>\n",
       "</table>\n",
       "<p>500000 rows × 3 columns</p>\n",
       "</div>"
      ],
      "text/plain": [
       "                                                    code1  \\\n",
       "0       from collections import deque\\nmod = 10**9+7\\n...   \n",
       "1       def selection_sort(numbers, n):\\ncounter = 0\\n...   \n",
       "2       n,k,*a = map(int,open(0).read().split())\\ndef ...   \n",
       "3                  N = str(input())\\nprint(chr(ord(N)+1))   \n",
       "4       n, a, b = list(map(int, input().split()))\\np =...   \n",
       "...                                                   ...   \n",
       "499995  s=input()\\nans = 0\\nfor i in range(len(s)):\\nj...   \n",
       "499996  import sys\\nn=int(input())\\nfor i in range(n+1...   \n",
       "499997  tmp = [int(e) for e in input().split()]\\na = t...   \n",
       "499998  n = int(input())\\ns = [input() for _ in range(...   \n",
       "499999  s = list(input())\\nif s.count('A') == 3 or s.c...   \n",
       "\n",
       "                                                    code2  similar  \n",
       "0       from collections import deque\\nN, M = [int(x) ...        1  \n",
       "1       n,x,t = map(int,(input().split()))\\ni = 1\\nwhi...        0  \n",
       "2       n = int(input())\\nd = {}\\nt = 0\\nfor i in rang...        0  \n",
       "3       k = int(input())\\ns = input()\\nif len(s)>k:\\np...        0  \n",
       "4       import sys\\ninput = sys.stdin.buffer.readline\\...        0  \n",
       "...                                                   ...      ...  \n",
       "499995  while True:\\nhw = [int(x) for x in input().spl...        0  \n",
       "499996  N = int(input())\\na = int(N / 1.08) \\nb = int(...        1  \n",
       "499997  import sys\\nfrom functools import reduce\\ndef ...        1  \n",
       "499998  import math\\ndef main():\\n(N, M, K) = map(int,...        0  \n",
       "499999  import math\\na, b, C = map(int, input().split(...        0  \n",
       "\n",
       "[500000 rows x 3 columns]"
      ]
     },
     "execution_count": 39,
     "metadata": {},
     "output_type": "execute_result"
    }
   ],
   "source": [
    "train_data.drop(['c1_problem_name','c2_problem_name'], axis = 1, inplace= True)\n",
    "train_data"
   ]
  },
  {
   "cell_type": "code",
   "execution_count": 40,
   "id": "93b5b35a",
   "metadata": {
    "ExecuteTime": {
     "end_time": "2022-06-02T10:43:40.766433Z",
     "start_time": "2022-06-02T10:43:40.749448Z"
    }
   },
   "outputs": [
    {
     "name": "stdout",
     "output_type": "stream",
     "text": [
      "<class 'pandas.core.series.Series'>\n",
      "<class 'pandas.core.series.Series'>\n",
      "                                               code1  \\\n",
      "0  from collections import deque\\nmod = 10**9+7\\n...   \n",
      "1  def selection_sort(numbers, n):\\ncounter = 0\\n...   \n",
      "2  n,k,*a = map(int,open(0).read().split())\\ndef ...   \n",
      "3             N = str(input())\\nprint(chr(ord(N)+1))   \n",
      "4  n, a, b = list(map(int, input().split()))\\np =...   \n",
      "\n",
      "                                               code2  similar  \n",
      "0  from collections import deque\\nN, M = [int(x) ...        1  \n",
      "1  n,x,t = map(int,(input().split()))\\ni = 1\\nwhi...        0  \n",
      "2  n = int(input())\\nd = {}\\nt = 0\\nfor i in rang...        0  \n",
      "3  k = int(input())\\ns = input()\\nif len(s)>k:\\np...        0  \n",
      "4  import sys\\ninput = sys.stdin.buffer.readline\\...        0  \n"
     ]
    }
   ],
   "source": [
    "print(type(train_data['code1']))\n",
    "print(type(train_data['code2']))\n",
    "print(train_data.head())"
   ]
  },
  {
   "cell_type": "code",
   "execution_count": 41,
   "id": "ea26a4e2",
   "metadata": {
    "ExecuteTime": {
     "end_time": "2022-06-02T10:44:22.976445Z",
     "start_time": "2022-06-02T10:44:21.269037Z"
    }
   },
   "outputs": [],
   "source": [
    "test_data = pd.read_csv(\"./open_code_test.csv\", index_col = 0, encoding = 'utf-8')"
   ]
  },
  {
   "cell_type": "code",
   "execution_count": 42,
   "id": "372669e8",
   "metadata": {
    "ExecuteTime": {
     "end_time": "2022-06-02T10:44:35.507744Z",
     "start_time": "2022-06-02T10:44:35.484738Z"
    }
   },
   "outputs": [
    {
     "data": {
      "text/html": [
       "<div>\n",
       "<style scoped>\n",
       "    .dataframe tbody tr th:only-of-type {\n",
       "        vertical-align: middle;\n",
       "    }\n",
       "\n",
       "    .dataframe tbody tr th {\n",
       "        vertical-align: top;\n",
       "    }\n",
       "\n",
       "    .dataframe thead th {\n",
       "        text-align: right;\n",
       "    }\n",
       "</style>\n",
       "<table border=\"1\" class=\"dataframe\">\n",
       "  <thead>\n",
       "    <tr style=\"text-align: right;\">\n",
       "      <th></th>\n",
       "      <th>pair_id</th>\n",
       "      <th>code1</th>\n",
       "      <th>code2</th>\n",
       "    </tr>\n",
       "  </thead>\n",
       "  <tbody>\n",
       "    <tr>\n",
       "      <th>0</th>\n",
       "      <td>1</td>\n",
       "      <td>def main():\\ns = input()\\nif s.count('a') == 1...</td>\n",
       "      <td>N,K = map(int,input().split())\\nA = list(map(i...</td>\n",
       "    </tr>\n",
       "    <tr>\n",
       "      <th>1</th>\n",
       "      <td>2</td>\n",
       "      <td>N,K,Q = map(int,input().split())\\npoints = [0]...</td>\n",
       "      <td>N, K, Q = map(int,input().split())\\n\\nif K &gt; Q...</td>\n",
       "    </tr>\n",
       "    <tr>\n",
       "      <th>2</th>\n",
       "      <td>3</td>\n",
       "      <td>from itertools import combinations\\nn = int(in...</td>\n",
       "      <td>s = input()\\nt = input()\\nlength_s = len(s)\\nl...</td>\n",
       "    </tr>\n",
       "    <tr>\n",
       "      <th>3</th>\n",
       "      <td>4</td>\n",
       "      <td>a,b=map(int,input().split())\\n\\nans1=a+b\\nans2...</td>\n",
       "      <td>a, b, c, d = map(int,input().split())\\n\\nif a ...</td>\n",
       "    </tr>\n",
       "    <tr>\n",
       "      <th>4</th>\n",
       "      <td>5</td>\n",
       "      <td>S = input()\\nK = int(input())\\n\\nind = -1\\nfor...</td>\n",
       "      <td>H, W = map(int, input().split())\\ngrid = []\\nf...</td>\n",
       "    </tr>\n",
       "    <tr>\n",
       "      <th>...</th>\n",
       "      <td>...</td>\n",
       "      <td>...</td>\n",
       "      <td>...</td>\n",
       "    </tr>\n",
       "    <tr>\n",
       "      <th>179695</th>\n",
       "      <td>179696</td>\n",
       "      <td>N = int(input())\\nS = input()\\nS_rep = S.repla...</td>\n",
       "      <td>N = int(input())\\nS = list(input())\\n\\nrow = [...</td>\n",
       "    </tr>\n",
       "    <tr>\n",
       "      <th>179696</th>\n",
       "      <td>179697</td>\n",
       "      <td>import sys\\ndef input(): return sys.stdin.read...</td>\n",
       "      <td>h,w,a,b = (int(i) for i in input().split())\\nf...</td>\n",
       "    </tr>\n",
       "    <tr>\n",
       "      <th>179697</th>\n",
       "      <td>179698</td>\n",
       "      <td>a = list(map(int, input().split()))\\n\\na1 = ab...</td>\n",
       "      <td>print('YNEOS'[sorted(input().split())!=['1','4...</td>\n",
       "    </tr>\n",
       "    <tr>\n",
       "      <th>179698</th>\n",
       "      <td>179699</td>\n",
       "      <td>\\n\\nH,W,A,B = map(int,input().split())\\n\\ns = ...</td>\n",
       "      <td>h, w, a, b = map(int, input().split())\\nmat = ...</td>\n",
       "    </tr>\n",
       "    <tr>\n",
       "      <th>179699</th>\n",
       "      <td>179700</td>\n",
       "      <td>from collections import deque\\n\\nn, k = map(in...</td>\n",
       "      <td>\\nimport sys\\nread = sys.stdin.readline\\n\\n\\nd...</td>\n",
       "    </tr>\n",
       "  </tbody>\n",
       "</table>\n",
       "<p>179700 rows × 3 columns</p>\n",
       "</div>"
      ],
      "text/plain": [
       "        pair_id                                              code1  \\\n",
       "0             1  def main():\\ns = input()\\nif s.count('a') == 1...   \n",
       "1             2  N,K,Q = map(int,input().split())\\npoints = [0]...   \n",
       "2             3  from itertools import combinations\\nn = int(in...   \n",
       "3             4  a,b=map(int,input().split())\\n\\nans1=a+b\\nans2...   \n",
       "4             5  S = input()\\nK = int(input())\\n\\nind = -1\\nfor...   \n",
       "...         ...                                                ...   \n",
       "179695   179696  N = int(input())\\nS = input()\\nS_rep = S.repla...   \n",
       "179696   179697  import sys\\ndef input(): return sys.stdin.read...   \n",
       "179697   179698  a = list(map(int, input().split()))\\n\\na1 = ab...   \n",
       "179698   179699  \\n\\nH,W,A,B = map(int,input().split())\\n\\ns = ...   \n",
       "179699   179700  from collections import deque\\n\\nn, k = map(in...   \n",
       "\n",
       "                                                    code2  \n",
       "0       N,K = map(int,input().split())\\nA = list(map(i...  \n",
       "1       N, K, Q = map(int,input().split())\\n\\nif K > Q...  \n",
       "2       s = input()\\nt = input()\\nlength_s = len(s)\\nl...  \n",
       "3       a, b, c, d = map(int,input().split())\\n\\nif a ...  \n",
       "4       H, W = map(int, input().split())\\ngrid = []\\nf...  \n",
       "...                                                   ...  \n",
       "179695  N = int(input())\\nS = list(input())\\n\\nrow = [...  \n",
       "179696  h,w,a,b = (int(i) for i in input().split())\\nf...  \n",
       "179697  print('YNEOS'[sorted(input().split())!=['1','4...  \n",
       "179698  h, w, a, b = map(int, input().split())\\nmat = ...  \n",
       "179699  \\nimport sys\\nread = sys.stdin.readline\\n\\n\\nd...  \n",
       "\n",
       "[179700 rows x 3 columns]"
      ]
     },
     "execution_count": 42,
     "metadata": {},
     "output_type": "execute_result"
    }
   ],
   "source": [
    "#test_data = test_data.head()\n",
    "test_data"
   ]
  },
  {
   "cell_type": "code",
   "execution_count": null,
   "id": "526f2da9",
   "metadata": {},
   "outputs": [],
   "source": []
  },
  {
   "cell_type": "markdown",
   "id": "cc6e31cd",
   "metadata": {},
   "source": [
    "## 토큰화"
   ]
  },
  {
   "cell_type": "code",
   "execution_count": 43,
   "id": "158c5259",
   "metadata": {
    "ExecuteTime": {
     "end_time": "2022-06-02T10:45:01.386062Z",
     "start_time": "2022-06-02T10:45:01.371074Z"
    }
   },
   "outputs": [],
   "source": [
    "tokenizer = Tokenizer() # Tokenizer 객체 생성"
   ]
  },
  {
   "cell_type": "code",
   "execution_count": 44,
   "id": "4c9ac4e6",
   "metadata": {
    "ExecuteTime": {
     "end_time": "2022-06-02T10:46:05.248769Z",
     "start_time": "2022-06-02T10:45:02.649995Z"
    }
   },
   "outputs": [],
   "source": [
    "tokenizer.fit_on_texts(train_data['code1']) # 단어 인덱스 구축\n",
    "tokenizer.fit_on_texts(train_data['code2']) # 단어 인덱스 구축"
   ]
  },
  {
   "cell_type": "code",
   "execution_count": 45,
   "id": "0f30c401",
   "metadata": {
    "ExecuteTime": {
     "end_time": "2022-06-02T10:46:51.684340Z",
     "start_time": "2022-06-02T10:46:05.248769Z"
    }
   },
   "outputs": [],
   "source": [
    "sequences_1 = tokenizer.texts_to_sequences(train_data['code1']) # 문자열을 정수 인덱스의 리스트로 변환한다. \n",
    "sequences_2 = tokenizer.texts_to_sequences(train_data['code2'])"
   ]
  },
  {
   "cell_type": "code",
   "execution_count": 46,
   "id": "07e94926",
   "metadata": {
    "ExecuteTime": {
     "end_time": "2022-06-02T10:46:51.699942Z",
     "start_time": "2022-06-02T10:46:51.684340Z"
    }
   },
   "outputs": [
    {
     "data": {
      "text/plain": [
       "0    1\n",
       "1    0\n",
       "2    0\n",
       "3    0\n",
       "4    0\n",
       "Name: similar, dtype: int64"
      ]
     },
     "execution_count": 46,
     "metadata": {},
     "output_type": "execute_result"
    }
   ],
   "source": [
    "train_val = train_data['similar']\n",
    "train_val.head()"
   ]
  },
  {
   "cell_type": "code",
   "execution_count": 47,
   "id": "876917f6",
   "metadata": {
    "ExecuteTime": {
     "end_time": "2022-06-02T10:46:51.715566Z",
     "start_time": "2022-06-02T10:46:51.699942Z"
    }
   },
   "outputs": [
    {
     "name": "stdout",
     "output_type": "stream",
     "text": [
      "8930\n"
     ]
    }
   ],
   "source": [
    "vocab_size = len(tokenizer.word_index) + 1 # 패딩을 고려하여 +1\n",
    "print(vocab_size)"
   ]
  },
  {
   "cell_type": "code",
   "execution_count": 48,
   "id": "0fe32c96",
   "metadata": {
    "ExecuteTime": {
     "end_time": "2022-06-02T10:46:52.177323Z",
     "start_time": "2022-06-02T10:46:51.715566Z"
    }
   },
   "outputs": [
    {
     "name": "stdout",
     "output_type": "stream",
     "text": [
      "코드의 최대 길이 : 128\n",
      "코드의 평균길이 : 53.031638\n",
      "코드의 평균길이 : 53\n"
     ]
    }
   ],
   "source": [
    "#가장 긴 sequence의 길이\n",
    "MAX_SEQUENCE_LENGTH = max([len(seq) for seq in sequences_1 + sequences_2])\n",
    "ABR__SEQUENCE_LENGTH = round(sum(map(len, sequences_1))/len(sequences_1))\n",
    "print('코드의 최대 길이 : {}'.format(max([len(seq) for seq in sequences_1 + sequences_2])))\n",
    "print('코드의 평균길이 : {}'.format(sum(map(len, sequences_1))/len(sequences_1)))\n",
    "print('코드의 평균길이 : %d'% ABR__SEQUENCE_LENGTH)"
   ]
  },
  {
   "cell_type": "code",
   "execution_count": 49,
   "id": "44d22ee3",
   "metadata": {
    "ExecuteTime": {
     "end_time": "2022-06-02T10:47:00.520474Z",
     "start_time": "2022-06-02T10:46:52.180298Z"
    }
   },
   "outputs": [
    {
     "name": "stdout",
     "output_type": "stream",
     "text": [
      "(500000, 128)\n",
      "(500000, 128)\n",
      "<class 'numpy.ndarray'>\n"
     ]
    }
   ],
   "source": [
    "X_train_1 = pad_sequences(sequences_1, maxlen=MAX_SEQUENCE_LENGTH)\n",
    "X_train_2 = pad_sequences(sequences_2, maxlen=MAX_SEQUENCE_LENGTH)\n",
    "print(X_train_1.shape)\n",
    "print(X_train_2.shape)\n",
    "print(type(X_train_2))"
   ]
  },
  {
   "cell_type": "code",
   "execution_count": 50,
   "id": "0e281b3b",
   "metadata": {
    "ExecuteTime": {
     "end_time": "2022-06-02T10:47:03.474613Z",
     "start_time": "2022-06-02T10:47:00.520474Z"
    }
   },
   "outputs": [],
   "source": [
    "# Model variables\n",
    "batch_size = 512\n",
    "epoch = 10\n",
    "vocab_size = vocab_size\n",
    "MAX_SEQUENCE_LENGTH = MAX_SEQUENCE_LENGTH\n",
    "ABR__SEQUENCE_LENGTH = ABR__SEQUENCE_LENGTH\n",
    "vocab_size = vocab_size\n",
    "emb_output_dim = 64\n",
    "DROPOUT_RATIO = 0.25\n",
    "\n",
    "def exponent_neg_manhattan_distance(left, right):\n",
    "    ''' Helper function for the similarity estimate of the LSTMs outputs'''\n",
    "    return K.exp(-K.sum(K.abs(left-right), axis=1, keepdims=True))\n",
    "\n",
    "# The visible layer\n",
    "input_tensor1 = layers.Input(shape= (128,), dtype = 'int32', name = 'code1')\n",
    "input_tensor2 = layers.Input(shape= (128,), dtype = 'int32', name = 'code2')\n",
    "\n",
    "# Embedding layers\n",
    "embedding_layer = layers.Embedding(input_dim = vocab_size,\n",
    "                                   output_dim = emb_output_dim,\n",
    "                                   input_length = ABR__SEQUENCE_LENGTH,\n",
    "                                   mask_zero = True,\n",
    "                                   trainable = False)\n",
    "\n",
    "# Embedded of the inputs\n",
    "encoded_1 = embedding_layer(input_tensor1)\n",
    "encoded_2 = embedding_layer(input_tensor2)\n",
    "\n",
    "# define lstm for sentence encode\n",
    "encoded_LSTM1 = layers.LSTM(32, activation='tanh')(encoded_1)\n",
    "encoded_LSTM2 = layers.LSTM(32, activation='tanh')(encoded_2)\n",
    "\n",
    "#dropout layer\n",
    "drop1 = layers.Dropout(DROPOUT_RATIO)(encoded_LSTM1)\n",
    "drop2 = layers.Dropout(DROPOUT_RATIO)(encoded_LSTM2)\n",
    "\n",
    "# Calculates the distance as defined by the MaLSTM model\n",
    "#concats = layers.concatenate([encoded_LSTM1,encoded_LSTM2], axis = -1)\n",
    "\n",
    "#함수형 API 모델 을 구성할 때 임의 의 Lambda표현식을 사용할 수 있도록 레이어 생성\n",
    "main_malstm_distance = layers.Lambda(lambda x: exponent_neg_manhattan_distance(x[0], x[1]), output_shape=lambda x: (x[0][0], 1))([drop1,drop2])\n",
    "\n",
    "#output\n",
    "#answer = layers.Dense(1, activation='sigmoid')(main_malstm_distance)\n",
    "# 최종 아웃풋을 어떤것으로 지정할것인가?\n",
    "\n",
    "#model\n",
    "malstm = Model([input_tensor1, input_tensor2], outputs = main_malstm_distance)\n",
    "\n",
    "#model compile \n",
    "malstm.compile(loss='mean_squared_logarithmic_error', optimizer=Adam(learning_rate=0.01), metrics=['accuracy'])"
   ]
  },
  {
   "cell_type": "code",
   "execution_count": 51,
   "id": "8932e790",
   "metadata": {
    "ExecuteTime": {
     "end_time": "2022-06-02T10:47:03.505802Z",
     "start_time": "2022-06-02T10:47:03.474613Z"
    }
   },
   "outputs": [
    {
     "name": "stdout",
     "output_type": "stream",
     "text": [
      "Model: \"model\"\n",
      "__________________________________________________________________________________________________\n",
      " Layer (type)                   Output Shape         Param #     Connected to                     \n",
      "==================================================================================================\n",
      " code1 (InputLayer)             [(None, 128)]        0           []                               \n",
      "                                                                                                  \n",
      " code2 (InputLayer)             [(None, 128)]        0           []                               \n",
      "                                                                                                  \n",
      " embedding (Embedding)          (None, 128, 64)      571520      ['code1[0][0]',                  \n",
      "                                                                  'code2[0][0]']                  \n",
      "                                                                                                  \n",
      " lstm (LSTM)                    (None, 32)           12416       ['embedding[0][0]']              \n",
      "                                                                                                  \n",
      " lstm_1 (LSTM)                  (None, 32)           12416       ['embedding[1][0]']              \n",
      "                                                                                                  \n",
      " dropout (Dropout)              (None, 32)           0           ['lstm[0][0]']                   \n",
      "                                                                                                  \n",
      " dropout_1 (Dropout)            (None, 32)           0           ['lstm_1[0][0]']                 \n",
      "                                                                                                  \n",
      " lambda (Lambda)                (None, 1)            0           ['dropout[0][0]',                \n",
      "                                                                  'dropout_1[0][0]']              \n",
      "                                                                                                  \n",
      "==================================================================================================\n",
      "Total params: 596,352\n",
      "Trainable params: 24,832\n",
      "Non-trainable params: 571,520\n",
      "__________________________________________________________________________________________________\n"
     ]
    }
   ],
   "source": [
    "malstm.summary()"
   ]
  },
  {
   "cell_type": "code",
   "execution_count": 52,
   "id": "1868de82",
   "metadata": {
    "ExecuteTime": {
     "end_time": "2022-06-02T10:47:03.521797Z",
     "start_time": "2022-06-02T10:47:03.508801Z"
    }
   },
   "outputs": [],
   "source": [
    "# early_stop\n",
    "early_stopping = EarlyStopping(monitor=\"val_loss\",patience = 10, mode=\"min\")"
   ]
  },
  {
   "cell_type": "code",
   "execution_count": 53,
   "id": "f64f4980",
   "metadata": {
    "ExecuteTime": {
     "end_time": "2022-06-02T10:50:46.366373Z",
     "start_time": "2022-06-02T10:47:03.527793Z"
    }
   },
   "outputs": [
    {
     "name": "stdout",
     "output_type": "stream",
     "text": [
      "Epoch 1/150\n",
      "227/782 [=======>......................] - ETA: 8:31 - loss: 0.1110 - accuracy: 0.5640"
     ]
    },
    {
     "ename": "KeyboardInterrupt",
     "evalue": "",
     "output_type": "error",
     "traceback": [
      "\u001b[1;31m---------------------------------------------------------------------------\u001b[0m",
      "\u001b[1;31mKeyboardInterrupt\u001b[0m                         Traceback (most recent call last)",
      "Input \u001b[1;32mIn [53]\u001b[0m, in \u001b[0;36m<cell line: 1>\u001b[1;34m()\u001b[0m\n\u001b[1;32m----> 1\u001b[0m history \u001b[38;5;241m=\u001b[39m \u001b[43mmalstm\u001b[49m\u001b[38;5;241;43m.\u001b[39;49m\u001b[43mfit\u001b[49m\u001b[43m(\u001b[49m\u001b[43m[\u001b[49m\u001b[43mX_train_1\u001b[49m\u001b[43m,\u001b[49m\u001b[43mX_train_2\u001b[49m\u001b[43m]\u001b[49m\u001b[43m,\u001b[49m\n\u001b[0;32m      2\u001b[0m \u001b[43m                   \u001b[49m\u001b[43mtrain_val\u001b[49m\u001b[43m,\u001b[49m\n\u001b[0;32m      3\u001b[0m \u001b[43m                   \u001b[49m\u001b[43mverbose\u001b[49m\u001b[38;5;241;43m=\u001b[39;49m\u001b[38;5;241;43m1\u001b[39;49m\u001b[43m,\u001b[49m\n\u001b[0;32m      4\u001b[0m \u001b[43m                   \u001b[49m\u001b[43mcallbacks\u001b[49m\u001b[38;5;241;43m=\u001b[39;49m\u001b[43m[\u001b[49m\u001b[43mearly_stopping\u001b[49m\u001b[43m]\u001b[49m\u001b[43m,\u001b[49m\n\u001b[0;32m      5\u001b[0m \u001b[43m                   \u001b[49m\u001b[43mvalidation_split\u001b[49m\u001b[38;5;241;43m=\u001b[39;49m\u001b[38;5;241;43m0.2\u001b[39;49m\u001b[43m,\u001b[49m\n\u001b[0;32m      6\u001b[0m \u001b[43m                   \u001b[49m\u001b[43mepochs\u001b[49m\u001b[38;5;241;43m=\u001b[39;49m\u001b[38;5;241;43m150\u001b[39;49m\u001b[43m \u001b[49m\u001b[43m,\u001b[49m\n\u001b[0;32m      7\u001b[0m \u001b[43m                   \u001b[49m\u001b[43mbatch_size\u001b[49m\u001b[43m \u001b[49m\u001b[38;5;241;43m=\u001b[39;49m\u001b[43m \u001b[49m\u001b[43mbatch_size\u001b[49m\u001b[43m)\u001b[49m\n",
      "File \u001b[1;32m~\\anaconda3\\lib\\site-packages\\keras\\utils\\traceback_utils.py:64\u001b[0m, in \u001b[0;36mfilter_traceback.<locals>.error_handler\u001b[1;34m(*args, **kwargs)\u001b[0m\n\u001b[0;32m     62\u001b[0m filtered_tb \u001b[38;5;241m=\u001b[39m \u001b[38;5;28;01mNone\u001b[39;00m\n\u001b[0;32m     63\u001b[0m \u001b[38;5;28;01mtry\u001b[39;00m:\n\u001b[1;32m---> 64\u001b[0m   \u001b[38;5;28;01mreturn\u001b[39;00m \u001b[43mfn\u001b[49m\u001b[43m(\u001b[49m\u001b[38;5;241;43m*\u001b[39;49m\u001b[43margs\u001b[49m\u001b[43m,\u001b[49m\u001b[43m \u001b[49m\u001b[38;5;241;43m*\u001b[39;49m\u001b[38;5;241;43m*\u001b[39;49m\u001b[43mkwargs\u001b[49m\u001b[43m)\u001b[49m\n\u001b[0;32m     65\u001b[0m \u001b[38;5;28;01mexcept\u001b[39;00m \u001b[38;5;167;01mException\u001b[39;00m \u001b[38;5;28;01mas\u001b[39;00m e:  \u001b[38;5;66;03m# pylint: disable=broad-except\u001b[39;00m\n\u001b[0;32m     66\u001b[0m   filtered_tb \u001b[38;5;241m=\u001b[39m _process_traceback_frames(e\u001b[38;5;241m.\u001b[39m__traceback__)\n",
      "File \u001b[1;32m~\\anaconda3\\lib\\site-packages\\keras\\engine\\training.py:1216\u001b[0m, in \u001b[0;36mModel.fit\u001b[1;34m(self, x, y, batch_size, epochs, verbose, callbacks, validation_split, validation_data, shuffle, class_weight, sample_weight, initial_epoch, steps_per_epoch, validation_steps, validation_batch_size, validation_freq, max_queue_size, workers, use_multiprocessing)\u001b[0m\n\u001b[0;32m   1209\u001b[0m \u001b[38;5;28;01mwith\u001b[39;00m tf\u001b[38;5;241m.\u001b[39mprofiler\u001b[38;5;241m.\u001b[39mexperimental\u001b[38;5;241m.\u001b[39mTrace(\n\u001b[0;32m   1210\u001b[0m     \u001b[38;5;124m'\u001b[39m\u001b[38;5;124mtrain\u001b[39m\u001b[38;5;124m'\u001b[39m,\n\u001b[0;32m   1211\u001b[0m     epoch_num\u001b[38;5;241m=\u001b[39mepoch,\n\u001b[0;32m   1212\u001b[0m     step_num\u001b[38;5;241m=\u001b[39mstep,\n\u001b[0;32m   1213\u001b[0m     batch_size\u001b[38;5;241m=\u001b[39mbatch_size,\n\u001b[0;32m   1214\u001b[0m     _r\u001b[38;5;241m=\u001b[39m\u001b[38;5;241m1\u001b[39m):\n\u001b[0;32m   1215\u001b[0m   callbacks\u001b[38;5;241m.\u001b[39mon_train_batch_begin(step)\n\u001b[1;32m-> 1216\u001b[0m   tmp_logs \u001b[38;5;241m=\u001b[39m \u001b[38;5;28;43mself\u001b[39;49m\u001b[38;5;241;43m.\u001b[39;49m\u001b[43mtrain_function\u001b[49m\u001b[43m(\u001b[49m\u001b[43miterator\u001b[49m\u001b[43m)\u001b[49m\n\u001b[0;32m   1217\u001b[0m   \u001b[38;5;28;01mif\u001b[39;00m data_handler\u001b[38;5;241m.\u001b[39mshould_sync:\n\u001b[0;32m   1218\u001b[0m     context\u001b[38;5;241m.\u001b[39masync_wait()\n",
      "File \u001b[1;32m~\\anaconda3\\lib\\site-packages\\tensorflow\\python\\util\\traceback_utils.py:150\u001b[0m, in \u001b[0;36mfilter_traceback.<locals>.error_handler\u001b[1;34m(*args, **kwargs)\u001b[0m\n\u001b[0;32m    148\u001b[0m filtered_tb \u001b[38;5;241m=\u001b[39m \u001b[38;5;28;01mNone\u001b[39;00m\n\u001b[0;32m    149\u001b[0m \u001b[38;5;28;01mtry\u001b[39;00m:\n\u001b[1;32m--> 150\u001b[0m   \u001b[38;5;28;01mreturn\u001b[39;00m \u001b[43mfn\u001b[49m\u001b[43m(\u001b[49m\u001b[38;5;241;43m*\u001b[39;49m\u001b[43margs\u001b[49m\u001b[43m,\u001b[49m\u001b[43m \u001b[49m\u001b[38;5;241;43m*\u001b[39;49m\u001b[38;5;241;43m*\u001b[39;49m\u001b[43mkwargs\u001b[49m\u001b[43m)\u001b[49m\n\u001b[0;32m    151\u001b[0m \u001b[38;5;28;01mexcept\u001b[39;00m \u001b[38;5;167;01mException\u001b[39;00m \u001b[38;5;28;01mas\u001b[39;00m e:\n\u001b[0;32m    152\u001b[0m   filtered_tb \u001b[38;5;241m=\u001b[39m _process_traceback_frames(e\u001b[38;5;241m.\u001b[39m__traceback__)\n",
      "File \u001b[1;32m~\\anaconda3\\lib\\site-packages\\tensorflow\\python\\eager\\def_function.py:910\u001b[0m, in \u001b[0;36mFunction.__call__\u001b[1;34m(self, *args, **kwds)\u001b[0m\n\u001b[0;32m    907\u001b[0m compiler \u001b[38;5;241m=\u001b[39m \u001b[38;5;124m\"\u001b[39m\u001b[38;5;124mxla\u001b[39m\u001b[38;5;124m\"\u001b[39m \u001b[38;5;28;01mif\u001b[39;00m \u001b[38;5;28mself\u001b[39m\u001b[38;5;241m.\u001b[39m_jit_compile \u001b[38;5;28;01melse\u001b[39;00m \u001b[38;5;124m\"\u001b[39m\u001b[38;5;124mnonXla\u001b[39m\u001b[38;5;124m\"\u001b[39m\n\u001b[0;32m    909\u001b[0m \u001b[38;5;28;01mwith\u001b[39;00m OptionalXlaContext(\u001b[38;5;28mself\u001b[39m\u001b[38;5;241m.\u001b[39m_jit_compile):\n\u001b[1;32m--> 910\u001b[0m   result \u001b[38;5;241m=\u001b[39m \u001b[38;5;28;43mself\u001b[39;49m\u001b[38;5;241;43m.\u001b[39;49m\u001b[43m_call\u001b[49m\u001b[43m(\u001b[49m\u001b[38;5;241;43m*\u001b[39;49m\u001b[43margs\u001b[49m\u001b[43m,\u001b[49m\u001b[43m \u001b[49m\u001b[38;5;241;43m*\u001b[39;49m\u001b[38;5;241;43m*\u001b[39;49m\u001b[43mkwds\u001b[49m\u001b[43m)\u001b[49m\n\u001b[0;32m    912\u001b[0m new_tracing_count \u001b[38;5;241m=\u001b[39m \u001b[38;5;28mself\u001b[39m\u001b[38;5;241m.\u001b[39mexperimental_get_tracing_count()\n\u001b[0;32m    913\u001b[0m without_tracing \u001b[38;5;241m=\u001b[39m (tracing_count \u001b[38;5;241m==\u001b[39m new_tracing_count)\n",
      "File \u001b[1;32m~\\anaconda3\\lib\\site-packages\\tensorflow\\python\\eager\\def_function.py:942\u001b[0m, in \u001b[0;36mFunction._call\u001b[1;34m(self, *args, **kwds)\u001b[0m\n\u001b[0;32m    939\u001b[0m   \u001b[38;5;28mself\u001b[39m\u001b[38;5;241m.\u001b[39m_lock\u001b[38;5;241m.\u001b[39mrelease()\n\u001b[0;32m    940\u001b[0m   \u001b[38;5;66;03m# In this case we have created variables on the first call, so we run the\u001b[39;00m\n\u001b[0;32m    941\u001b[0m   \u001b[38;5;66;03m# defunned version which is guaranteed to never create variables.\u001b[39;00m\n\u001b[1;32m--> 942\u001b[0m   \u001b[38;5;28;01mreturn\u001b[39;00m \u001b[38;5;28;43mself\u001b[39;49m\u001b[38;5;241;43m.\u001b[39;49m\u001b[43m_stateless_fn\u001b[49m\u001b[43m(\u001b[49m\u001b[38;5;241;43m*\u001b[39;49m\u001b[43margs\u001b[49m\u001b[43m,\u001b[49m\u001b[43m \u001b[49m\u001b[38;5;241;43m*\u001b[39;49m\u001b[38;5;241;43m*\u001b[39;49m\u001b[43mkwds\u001b[49m\u001b[43m)\u001b[49m  \u001b[38;5;66;03m# pylint: disable=not-callable\u001b[39;00m\n\u001b[0;32m    943\u001b[0m \u001b[38;5;28;01melif\u001b[39;00m \u001b[38;5;28mself\u001b[39m\u001b[38;5;241m.\u001b[39m_stateful_fn \u001b[38;5;129;01mis\u001b[39;00m \u001b[38;5;129;01mnot\u001b[39;00m \u001b[38;5;28;01mNone\u001b[39;00m:\n\u001b[0;32m    944\u001b[0m   \u001b[38;5;66;03m# Release the lock early so that multiple threads can perform the call\u001b[39;00m\n\u001b[0;32m    945\u001b[0m   \u001b[38;5;66;03m# in parallel.\u001b[39;00m\n\u001b[0;32m    946\u001b[0m   \u001b[38;5;28mself\u001b[39m\u001b[38;5;241m.\u001b[39m_lock\u001b[38;5;241m.\u001b[39mrelease()\n",
      "File \u001b[1;32m~\\anaconda3\\lib\\site-packages\\tensorflow\\python\\eager\\function.py:3130\u001b[0m, in \u001b[0;36mFunction.__call__\u001b[1;34m(self, *args, **kwargs)\u001b[0m\n\u001b[0;32m   3127\u001b[0m \u001b[38;5;28;01mwith\u001b[39;00m \u001b[38;5;28mself\u001b[39m\u001b[38;5;241m.\u001b[39m_lock:\n\u001b[0;32m   3128\u001b[0m   (graph_function,\n\u001b[0;32m   3129\u001b[0m    filtered_flat_args) \u001b[38;5;241m=\u001b[39m \u001b[38;5;28mself\u001b[39m\u001b[38;5;241m.\u001b[39m_maybe_define_function(args, kwargs)\n\u001b[1;32m-> 3130\u001b[0m \u001b[38;5;28;01mreturn\u001b[39;00m \u001b[43mgraph_function\u001b[49m\u001b[38;5;241;43m.\u001b[39;49m\u001b[43m_call_flat\u001b[49m\u001b[43m(\u001b[49m\n\u001b[0;32m   3131\u001b[0m \u001b[43m    \u001b[49m\u001b[43mfiltered_flat_args\u001b[49m\u001b[43m,\u001b[49m\u001b[43m \u001b[49m\u001b[43mcaptured_inputs\u001b[49m\u001b[38;5;241;43m=\u001b[39;49m\u001b[43mgraph_function\u001b[49m\u001b[38;5;241;43m.\u001b[39;49m\u001b[43mcaptured_inputs\u001b[49m\u001b[43m)\u001b[49m\n",
      "File \u001b[1;32m~\\anaconda3\\lib\\site-packages\\tensorflow\\python\\eager\\function.py:1959\u001b[0m, in \u001b[0;36mConcreteFunction._call_flat\u001b[1;34m(self, args, captured_inputs, cancellation_manager)\u001b[0m\n\u001b[0;32m   1955\u001b[0m possible_gradient_type \u001b[38;5;241m=\u001b[39m gradients_util\u001b[38;5;241m.\u001b[39mPossibleTapeGradientTypes(args)\n\u001b[0;32m   1956\u001b[0m \u001b[38;5;28;01mif\u001b[39;00m (possible_gradient_type \u001b[38;5;241m==\u001b[39m gradients_util\u001b[38;5;241m.\u001b[39mPOSSIBLE_GRADIENT_TYPES_NONE\n\u001b[0;32m   1957\u001b[0m     \u001b[38;5;129;01mand\u001b[39;00m executing_eagerly):\n\u001b[0;32m   1958\u001b[0m   \u001b[38;5;66;03m# No tape is watching; skip to running the function.\u001b[39;00m\n\u001b[1;32m-> 1959\u001b[0m   \u001b[38;5;28;01mreturn\u001b[39;00m \u001b[38;5;28mself\u001b[39m\u001b[38;5;241m.\u001b[39m_build_call_outputs(\u001b[38;5;28;43mself\u001b[39;49m\u001b[38;5;241;43m.\u001b[39;49m\u001b[43m_inference_function\u001b[49m\u001b[38;5;241;43m.\u001b[39;49m\u001b[43mcall\u001b[49m\u001b[43m(\u001b[49m\n\u001b[0;32m   1960\u001b[0m \u001b[43m      \u001b[49m\u001b[43mctx\u001b[49m\u001b[43m,\u001b[49m\u001b[43m \u001b[49m\u001b[43margs\u001b[49m\u001b[43m,\u001b[49m\u001b[43m \u001b[49m\u001b[43mcancellation_manager\u001b[49m\u001b[38;5;241;43m=\u001b[39;49m\u001b[43mcancellation_manager\u001b[49m\u001b[43m)\u001b[49m)\n\u001b[0;32m   1961\u001b[0m forward_backward \u001b[38;5;241m=\u001b[39m \u001b[38;5;28mself\u001b[39m\u001b[38;5;241m.\u001b[39m_select_forward_and_backward_functions(\n\u001b[0;32m   1962\u001b[0m     args,\n\u001b[0;32m   1963\u001b[0m     possible_gradient_type,\n\u001b[0;32m   1964\u001b[0m     executing_eagerly)\n\u001b[0;32m   1965\u001b[0m forward_function, args_with_tangents \u001b[38;5;241m=\u001b[39m forward_backward\u001b[38;5;241m.\u001b[39mforward()\n",
      "File \u001b[1;32m~\\anaconda3\\lib\\site-packages\\tensorflow\\python\\eager\\function.py:598\u001b[0m, in \u001b[0;36m_EagerDefinedFunction.call\u001b[1;34m(self, ctx, args, cancellation_manager)\u001b[0m\n\u001b[0;32m    596\u001b[0m \u001b[38;5;28;01mwith\u001b[39;00m _InterpolateFunctionError(\u001b[38;5;28mself\u001b[39m):\n\u001b[0;32m    597\u001b[0m   \u001b[38;5;28;01mif\u001b[39;00m cancellation_manager \u001b[38;5;129;01mis\u001b[39;00m \u001b[38;5;28;01mNone\u001b[39;00m:\n\u001b[1;32m--> 598\u001b[0m     outputs \u001b[38;5;241m=\u001b[39m \u001b[43mexecute\u001b[49m\u001b[38;5;241;43m.\u001b[39;49m\u001b[43mexecute\u001b[49m\u001b[43m(\u001b[49m\n\u001b[0;32m    599\u001b[0m \u001b[43m        \u001b[49m\u001b[38;5;28;43mstr\u001b[39;49m\u001b[43m(\u001b[49m\u001b[38;5;28;43mself\u001b[39;49m\u001b[38;5;241;43m.\u001b[39;49m\u001b[43msignature\u001b[49m\u001b[38;5;241;43m.\u001b[39;49m\u001b[43mname\u001b[49m\u001b[43m)\u001b[49m\u001b[43m,\u001b[49m\n\u001b[0;32m    600\u001b[0m \u001b[43m        \u001b[49m\u001b[43mnum_outputs\u001b[49m\u001b[38;5;241;43m=\u001b[39;49m\u001b[38;5;28;43mself\u001b[39;49m\u001b[38;5;241;43m.\u001b[39;49m\u001b[43m_num_outputs\u001b[49m\u001b[43m,\u001b[49m\n\u001b[0;32m    601\u001b[0m \u001b[43m        \u001b[49m\u001b[43minputs\u001b[49m\u001b[38;5;241;43m=\u001b[39;49m\u001b[43margs\u001b[49m\u001b[43m,\u001b[49m\n\u001b[0;32m    602\u001b[0m \u001b[43m        \u001b[49m\u001b[43mattrs\u001b[49m\u001b[38;5;241;43m=\u001b[39;49m\u001b[43mattrs\u001b[49m\u001b[43m,\u001b[49m\n\u001b[0;32m    603\u001b[0m \u001b[43m        \u001b[49m\u001b[43mctx\u001b[49m\u001b[38;5;241;43m=\u001b[39;49m\u001b[43mctx\u001b[49m\u001b[43m)\u001b[49m\n\u001b[0;32m    604\u001b[0m   \u001b[38;5;28;01melse\u001b[39;00m:\n\u001b[0;32m    605\u001b[0m     outputs \u001b[38;5;241m=\u001b[39m execute\u001b[38;5;241m.\u001b[39mexecute_with_cancellation(\n\u001b[0;32m    606\u001b[0m         \u001b[38;5;28mstr\u001b[39m(\u001b[38;5;28mself\u001b[39m\u001b[38;5;241m.\u001b[39msignature\u001b[38;5;241m.\u001b[39mname),\n\u001b[0;32m    607\u001b[0m         num_outputs\u001b[38;5;241m=\u001b[39m\u001b[38;5;28mself\u001b[39m\u001b[38;5;241m.\u001b[39m_num_outputs,\n\u001b[1;32m   (...)\u001b[0m\n\u001b[0;32m    610\u001b[0m         ctx\u001b[38;5;241m=\u001b[39mctx,\n\u001b[0;32m    611\u001b[0m         cancellation_manager\u001b[38;5;241m=\u001b[39mcancellation_manager)\n",
      "File \u001b[1;32m~\\anaconda3\\lib\\site-packages\\tensorflow\\python\\eager\\execute.py:58\u001b[0m, in \u001b[0;36mquick_execute\u001b[1;34m(op_name, num_outputs, inputs, attrs, ctx, name)\u001b[0m\n\u001b[0;32m     56\u001b[0m \u001b[38;5;28;01mtry\u001b[39;00m:\n\u001b[0;32m     57\u001b[0m   ctx\u001b[38;5;241m.\u001b[39mensure_initialized()\n\u001b[1;32m---> 58\u001b[0m   tensors \u001b[38;5;241m=\u001b[39m \u001b[43mpywrap_tfe\u001b[49m\u001b[38;5;241;43m.\u001b[39;49m\u001b[43mTFE_Py_Execute\u001b[49m\u001b[43m(\u001b[49m\u001b[43mctx\u001b[49m\u001b[38;5;241;43m.\u001b[39;49m\u001b[43m_handle\u001b[49m\u001b[43m,\u001b[49m\u001b[43m \u001b[49m\u001b[43mdevice_name\u001b[49m\u001b[43m,\u001b[49m\u001b[43m \u001b[49m\u001b[43mop_name\u001b[49m\u001b[43m,\u001b[49m\n\u001b[0;32m     59\u001b[0m \u001b[43m                                      \u001b[49m\u001b[43minputs\u001b[49m\u001b[43m,\u001b[49m\u001b[43m \u001b[49m\u001b[43mattrs\u001b[49m\u001b[43m,\u001b[49m\u001b[43m \u001b[49m\u001b[43mnum_outputs\u001b[49m\u001b[43m)\u001b[49m\n\u001b[0;32m     60\u001b[0m \u001b[38;5;28;01mexcept\u001b[39;00m core\u001b[38;5;241m.\u001b[39m_NotOkStatusException \u001b[38;5;28;01mas\u001b[39;00m e:\n\u001b[0;32m     61\u001b[0m   \u001b[38;5;28;01mif\u001b[39;00m name \u001b[38;5;129;01mis\u001b[39;00m \u001b[38;5;129;01mnot\u001b[39;00m \u001b[38;5;28;01mNone\u001b[39;00m:\n",
      "\u001b[1;31mKeyboardInterrupt\u001b[0m: "
     ]
    }
   ],
   "source": [
    "history = malstm.fit([X_train_1,X_train_2],\n",
    "                   train_val,\n",
    "                   verbose=1,\n",
    "                   callbacks=[early_stopping],\n",
    "                   validation_split=0.2,\n",
    "                   epochs=150 ,\n",
    "                   batch_size = batch_size)   "
   ]
  },
  {
   "cell_type": "code",
   "execution_count": null,
   "id": "a4e3aec8",
   "metadata": {},
   "outputs": [],
   "source": []
  },
  {
   "cell_type": "code",
   "execution_count": null,
   "id": "a0377fac",
   "metadata": {
    "ExecuteTime": {
     "end_time": "2022-06-02T10:50:46.372368Z",
     "start_time": "2022-06-02T10:50:46.372368Z"
    }
   },
   "outputs": [],
   "source": [
    "#model.save('./model_smilarity_MSLE_803')"
   ]
  },
  {
   "cell_type": "code",
   "execution_count": null,
   "id": "3913157c",
   "metadata": {},
   "outputs": [],
   "source": [
    "# Plot accuracy\n",
    "plt.plot(history.history['acc'])\n",
    "plt.plot(history.history['val_acc'])\n",
    "plt.title('Model Accuracy')\n",
    "plt.ylabel('Accuracy')\n",
    "plt.xlabel('Epoch')\n",
    "plt.legend(['Train', 'Validation'], loc='upper left')\n",
    "plt.show()"
   ]
  },
  {
   "cell_type": "code",
   "execution_count": null,
   "id": "9c27ead2",
   "metadata": {},
   "outputs": [],
   "source": [
    "# # Plot loss\n",
    "plt.plot(history.history['loss'])\n",
    "plt.plot(history.history['val_loss'])\n",
    "plt.title('Model Loss')\n",
    "plt.ylabel('Loss')\n",
    "plt.xlabel('Epoch')\n",
    "plt.legend(['Train', 'Validation'], loc='upper right')\n",
    "plt.show()"
   ]
  },
  {
   "cell_type": "code",
   "execution_count": null,
   "id": "1eefcb66",
   "metadata": {},
   "outputs": [],
   "source": [
    "#test data 정수\n",
    "tokenizer.fit_on_texts(test_data['code1']) # 단어 인덱스 구축\n",
    "tokenizer.fit_on_texts(test_data['code2']) # 단어 인덱스 구축\n",
    "\n",
    "test_sequences_1 = tokenizer.texts_to_sequences(test_data['code1']) # 문자열을 정수 인덱스의 리스트로 변환한다. \n",
    "test_sequences_2 = tokenizer.texts_to_sequences(test_data['code2'])\n",
    "\n",
    "X_test_1 = pad_sequences(test_sequences_1, maxlen=ABR__SEQUENCE_LENGTH)\n",
    "X_test_2 = pad_sequences(test_sequences_2, maxlen=ABR__SEQUENCE_LENGTH)\n",
    "\n",
    "print(X_test_1.shape)\n",
    "print(X_test_2.shape)\n",
    "print(type(X_test_1))"
   ]
  },
  {
   "cell_type": "code",
   "execution_count": null,
   "id": "c2e5e1cb",
   "metadata": {},
   "outputs": [],
   "source": [
    "# 모델 추론\n",
    "preds = malstm.predict(test_data['code1'], test_data['code2'])"
   ]
  },
  {
   "cell_type": "code",
   "execution_count": null,
   "id": "9c1b0ef8",
   "metadata": {},
   "outputs": [],
   "source": [
    "threshold = 0.5\n",
    "preds = np.where(preds>self.threshold, 1, 0)"
   ]
  },
  {
   "cell_type": "code",
   "execution_count": null,
   "id": "2bed2581",
   "metadata": {},
   "outputs": [],
   "source": [
    "# submission 저장\n",
    "submission = pd.read_csv('./sample_submission.csv')\n",
    "submission['similar'] = preds\n",
    "submission.to_csv('./submission.csv', index=False)"
   ]
  },
  {
   "cell_type": "code",
   "execution_count": null,
   "id": "ff439f24",
   "metadata": {},
   "outputs": [],
   "source": []
  },
  {
   "cell_type": "code",
   "execution_count": null,
   "id": "26b63946",
   "metadata": {},
   "outputs": [],
   "source": []
  },
  {
   "cell_type": "code",
   "execution_count": null,
   "id": "203202c9",
   "metadata": {},
   "outputs": [],
   "source": []
  }
 ],
 "metadata": {
  "kernelspec": {
   "display_name": "Python 3 (ipykernel)",
   "language": "python",
   "name": "python3"
  },
  "language_info": {
   "codemirror_mode": {
    "name": "ipython",
    "version": 3
   },
   "file_extension": ".py",
   "mimetype": "text/x-python",
   "name": "python",
   "nbconvert_exporter": "python",
   "pygments_lexer": "ipython3",
   "version": "3.8.8"
  },
  "toc": {
   "base_numbering": 1,
   "nav_menu": {},
   "number_sections": true,
   "sideBar": true,
   "skip_h1_title": false,
   "title_cell": "Table of Contents",
   "title_sidebar": "Contents",
   "toc_cell": false,
   "toc_position": {},
   "toc_section_display": true,
   "toc_window_display": false
  }
 },
 "nbformat": 4,
 "nbformat_minor": 5
}
