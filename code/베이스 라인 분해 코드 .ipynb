{
 "cells": [
  {
   "cell_type": "code",
   "execution_count": 1,
   "id": "2a99c532",
   "metadata": {
    "ExecuteTime": {
     "end_time": "2022-06-02T08:48:11.572306Z",
     "start_time": "2022-06-02T08:48:09.361426Z"
    }
   },
   "outputs": [],
   "source": [
    "import pandas as pd\n",
    "import numpy as np\n",
    "from sklearn.feature_extraction.text import CountVectorizer\n",
    "from sklearn.metrics.pairwise import cosine_similarity"
   ]
  },
  {
   "cell_type": "code",
   "execution_count": 2,
   "id": "3502153e",
   "metadata": {
    "ExecuteTime": {
     "end_time": "2022-06-02T08:48:16.070161Z",
     "start_time": "2022-06-02T08:48:11.578628Z"
    }
   },
   "outputs": [
    {
     "data": {
      "text/html": [
       "<div>\n",
       "<style scoped>\n",
       "    .dataframe tbody tr th:only-of-type {\n",
       "        vertical-align: middle;\n",
       "    }\n",
       "\n",
       "    .dataframe tbody tr th {\n",
       "        vertical-align: top;\n",
       "    }\n",
       "\n",
       "    .dataframe thead th {\n",
       "        text-align: right;\n",
       "    }\n",
       "</style>\n",
       "<table border=\"1\" class=\"dataframe\">\n",
       "  <thead>\n",
       "    <tr style=\"text-align: right;\">\n",
       "      <th></th>\n",
       "      <th>Unnamed: 0</th>\n",
       "      <th>code1</th>\n",
       "      <th>c1_problem_name</th>\n",
       "      <th>code2</th>\n",
       "      <th>c2_problem_name</th>\n",
       "      <th>similar</th>\n",
       "    </tr>\n",
       "  </thead>\n",
       "  <tbody>\n",
       "    <tr>\n",
       "      <th>0</th>\n",
       "      <td>0</td>\n",
       "      <td>from collections import deque\\nmod = 10**9+7\\n...</td>\n",
       "      <td>145</td>\n",
       "      <td>from collections import deque\\nN, M = [int(x) ...</td>\n",
       "      <td>145</td>\n",
       "      <td>1</td>\n",
       "    </tr>\n",
       "    <tr>\n",
       "      <th>1</th>\n",
       "      <td>1</td>\n",
       "      <td>def selection_sort(numbers, n):\\ncounter = 0\\n...</td>\n",
       "      <td>15</td>\n",
       "      <td>n,x,t = map(int,(input().split()))\\ni = 1\\nwhi...</td>\n",
       "      <td>86</td>\n",
       "      <td>0</td>\n",
       "    </tr>\n",
       "    <tr>\n",
       "      <th>2</th>\n",
       "      <td>2</td>\n",
       "      <td>n,k,*a = map(int,open(0).read().split())\\ndef ...</td>\n",
       "      <td>99</td>\n",
       "      <td>n = int(input())\\nd = {}\\nt = 0\\nfor i in rang...</td>\n",
       "      <td>218</td>\n",
       "      <td>0</td>\n",
       "    </tr>\n",
       "    <tr>\n",
       "      <th>3</th>\n",
       "      <td>3</td>\n",
       "      <td>N = str(input())\\nprint(chr(ord(N)+1))</td>\n",
       "      <td>239</td>\n",
       "      <td>k = int(input())\\ns = input()\\nif len(s)&gt;k:\\np...</td>\n",
       "      <td>143</td>\n",
       "      <td>0</td>\n",
       "    </tr>\n",
       "    <tr>\n",
       "      <th>4</th>\n",
       "      <td>4</td>\n",
       "      <td>n, a, b = list(map(int, input().split()))\\np =...</td>\n",
       "      <td>214</td>\n",
       "      <td>import sys\\ninput = sys.stdin.buffer.readline\\...</td>\n",
       "      <td>74</td>\n",
       "      <td>0</td>\n",
       "    </tr>\n",
       "  </tbody>\n",
       "</table>\n",
       "</div>"
      ],
      "text/plain": [
       "   Unnamed: 0                                              code1  \\\n",
       "0           0  from collections import deque\\nmod = 10**9+7\\n...   \n",
       "1           1  def selection_sort(numbers, n):\\ncounter = 0\\n...   \n",
       "2           2  n,k,*a = map(int,open(0).read().split())\\ndef ...   \n",
       "3           3             N = str(input())\\nprint(chr(ord(N)+1))   \n",
       "4           4  n, a, b = list(map(int, input().split()))\\np =...   \n",
       "\n",
       "   c1_problem_name                                              code2  \\\n",
       "0              145  from collections import deque\\nN, M = [int(x) ...   \n",
       "1               15  n,x,t = map(int,(input().split()))\\ni = 1\\nwhi...   \n",
       "2               99  n = int(input())\\nd = {}\\nt = 0\\nfor i in rang...   \n",
       "3              239  k = int(input())\\ns = input()\\nif len(s)>k:\\np...   \n",
       "4              214  import sys\\ninput = sys.stdin.buffer.readline\\...   \n",
       "\n",
       "   c2_problem_name  similar  \n",
       "0              145        1  \n",
       "1               86        0  \n",
       "2              218        0  \n",
       "3              143        0  \n",
       "4               74        0  "
      ]
     },
     "execution_count": 2,
     "metadata": {},
     "output_type": "execute_result"
    }
   ],
   "source": [
    "#train = pd.read_csv(\"./open/sample_train.csv\")\n",
    "train = pd.read_csv(\"./open_code_train_220602_수정.csv\")\n",
    "train.head(5)"
   ]
  },
  {
   "cell_type": "code",
   "execution_count": 3,
   "id": "b8291086",
   "metadata": {
    "ExecuteTime": {
     "end_time": "2022-06-02T08:48:18.041194Z",
     "start_time": "2022-06-02T08:48:16.086135Z"
    }
   },
   "outputs": [
    {
     "data": {
      "text/html": [
       "<div>\n",
       "<style scoped>\n",
       "    .dataframe tbody tr th:only-of-type {\n",
       "        vertical-align: middle;\n",
       "    }\n",
       "\n",
       "    .dataframe tbody tr th {\n",
       "        vertical-align: top;\n",
       "    }\n",
       "\n",
       "    .dataframe thead th {\n",
       "        text-align: right;\n",
       "    }\n",
       "</style>\n",
       "<table border=\"1\" class=\"dataframe\">\n",
       "  <thead>\n",
       "    <tr style=\"text-align: right;\">\n",
       "      <th></th>\n",
       "      <th>Unnamed: 0</th>\n",
       "      <th>pair_id</th>\n",
       "      <th>code1</th>\n",
       "      <th>code2</th>\n",
       "    </tr>\n",
       "  </thead>\n",
       "  <tbody>\n",
       "    <tr>\n",
       "      <th>0</th>\n",
       "      <td>0</td>\n",
       "      <td>1</td>\n",
       "      <td>def main():\\ns = input()\\nif s.count('a') == 1...</td>\n",
       "      <td>N,K = map(int,input().split())\\nA = list(map(i...</td>\n",
       "    </tr>\n",
       "    <tr>\n",
       "      <th>1</th>\n",
       "      <td>1</td>\n",
       "      <td>2</td>\n",
       "      <td>N,K,Q = map(int,input().split())\\npoints = [0]...</td>\n",
       "      <td>N, K, Q = map(int,input().split())\\n\\nif K &gt; Q...</td>\n",
       "    </tr>\n",
       "    <tr>\n",
       "      <th>2</th>\n",
       "      <td>2</td>\n",
       "      <td>3</td>\n",
       "      <td>from itertools import combinations\\nn = int(in...</td>\n",
       "      <td>s = input()\\nt = input()\\nlength_s = len(s)\\nl...</td>\n",
       "    </tr>\n",
       "    <tr>\n",
       "      <th>3</th>\n",
       "      <td>3</td>\n",
       "      <td>4</td>\n",
       "      <td>a,b=map(int,input().split())\\n\\nans1=a+b\\nans2...</td>\n",
       "      <td>a, b, c, d = map(int,input().split())\\n\\nif a ...</td>\n",
       "    </tr>\n",
       "    <tr>\n",
       "      <th>4</th>\n",
       "      <td>4</td>\n",
       "      <td>5</td>\n",
       "      <td>S = input()\\nK = int(input())\\n\\nind = -1\\nfor...</td>\n",
       "      <td>H, W = map(int, input().split())\\ngrid = []\\nf...</td>\n",
       "    </tr>\n",
       "  </tbody>\n",
       "</table>\n",
       "</div>"
      ],
      "text/plain": [
       "   Unnamed: 0  pair_id                                              code1  \\\n",
       "0           0        1  def main():\\ns = input()\\nif s.count('a') == 1...   \n",
       "1           1        2  N,K,Q = map(int,input().split())\\npoints = [0]...   \n",
       "2           2        3  from itertools import combinations\\nn = int(in...   \n",
       "3           3        4  a,b=map(int,input().split())\\n\\nans1=a+b\\nans2...   \n",
       "4           4        5  S = input()\\nK = int(input())\\n\\nind = -1\\nfor...   \n",
       "\n",
       "                                               code2  \n",
       "0  N,K = map(int,input().split())\\nA = list(map(i...  \n",
       "1  N, K, Q = map(int,input().split())\\n\\nif K > Q...  \n",
       "2  s = input()\\nt = input()\\nlength_s = len(s)\\nl...  \n",
       "3  a, b, c, d = map(int,input().split())\\n\\nif a ...  \n",
       "4  H, W = map(int, input().split())\\ngrid = []\\nf...  "
      ]
     },
     "execution_count": 3,
     "metadata": {},
     "output_type": "execute_result"
    }
   ],
   "source": [
    "test = pd.read_csv(\"./test_220602.csv\")\n",
    "test.head(5)"
   ]
  },
  {
   "cell_type": "code",
   "execution_count": null,
   "id": "7c9f0edb",
   "metadata": {},
   "outputs": [],
   "source": []
  },
  {
   "cell_type": "code",
   "execution_count": 4,
   "id": "62f06229",
   "metadata": {
    "ExecuteTime": {
     "end_time": "2022-06-02T08:48:18.057182Z",
     "start_time": "2022-06-02T08:48:18.046190Z"
    }
   },
   "outputs": [],
   "source": [
    "model = CountVectorizer()"
   ]
  },
  {
   "cell_type": "code",
   "execution_count": 5,
   "id": "83f8526c",
   "metadata": {
    "ExecuteTime": {
     "end_time": "2022-06-02T08:48:58.604208Z",
     "start_time": "2022-06-02T08:48:18.064179Z"
    }
   },
   "outputs": [
    {
     "data": {
      "text/plain": [
       "CountVectorizer()"
      ]
     },
     "execution_count": 5,
     "metadata": {},
     "output_type": "execute_result"
    }
   ],
   "source": [
    "model.fit(train['code1'])\n",
    "model.fit(train['code2'])"
   ]
  },
  {
   "cell_type": "code",
   "execution_count": 6,
   "id": "78af6185",
   "metadata": {
    "ExecuteTime": {
     "end_time": "2022-06-02T08:49:14.621478Z",
     "start_time": "2022-06-02T08:48:58.608186Z"
    }
   },
   "outputs": [],
   "source": [
    "code1_vecs = model.transform(test['code1'])\n",
    "code2_vecs = model.transform(test['code2'])"
   ]
  },
  {
   "cell_type": "code",
   "execution_count": 7,
   "id": "1b873909",
   "metadata": {
    "ExecuteTime": {
     "end_time": "2022-06-02T08:49:14.651972Z",
     "start_time": "2022-06-02T08:49:14.621478Z"
    }
   },
   "outputs": [],
   "source": [
    "from tqdm import tqdm"
   ]
  },
  {
   "cell_type": "code",
   "execution_count": 8,
   "id": "b55b9870",
   "metadata": {
    "ExecuteTime": {
     "end_time": "2022-06-02T08:52:27.388057Z",
     "start_time": "2022-06-02T08:49:14.671962Z"
    }
   },
   "outputs": [
    {
     "name": "stderr",
     "output_type": "stream",
     "text": [
      "179700it [03:12, 932.59it/s] \n"
     ]
    }
   ],
   "source": [
    "preds = []\n",
    "for code1_vec, code2_vec in tqdm(zip(code1_vecs, code2_vecs)) :\n",
    "    preds.append(cosine_similarity(code1_vec, code2_vec))"
   ]
  },
  {
   "cell_type": "code",
   "execution_count": 9,
   "id": "64fb1000",
   "metadata": {
    "ExecuteTime": {
     "end_time": "2022-06-02T08:52:27.529468Z",
     "start_time": "2022-06-02T08:52:27.390282Z"
    }
   },
   "outputs": [],
   "source": [
    "preds_result = np.reshape(preds, len(preds))"
   ]
  },
  {
   "cell_type": "code",
   "execution_count": 10,
   "id": "7e582e58",
   "metadata": {
    "ExecuteTime": {
     "end_time": "2022-06-02T08:52:27.545463Z",
     "start_time": "2022-06-02T08:52:27.531474Z"
    }
   },
   "outputs": [
    {
     "data": {
      "text/plain": [
       "array([0.13363062, 0.83402338, 0.24807103, ..., 0.2045983 , 0.80984121,\n",
       "       0.49008412])"
      ]
     },
     "execution_count": 10,
     "metadata": {},
     "output_type": "execute_result"
    }
   ],
   "source": [
    "preds_result"
   ]
  },
  {
   "cell_type": "code",
   "execution_count": null,
   "id": "72211ece",
   "metadata": {},
   "outputs": [],
   "source": []
  },
  {
   "cell_type": "code",
   "execution_count": 13,
   "id": "5ecea7fd",
   "metadata": {
    "ExecuteTime": {
     "end_time": "2022-06-02T08:52:27.704396Z",
     "start_time": "2022-06-02T08:52:27.691402Z"
    }
   },
   "outputs": [],
   "source": [
    "final = np.where(preds_result > 0.5, 1, 0)"
   ]
  },
  {
   "cell_type": "code",
   "execution_count": 14,
   "id": "dc45edca",
   "metadata": {
    "ExecuteTime": {
     "end_time": "2022-06-02T08:52:27.720386Z",
     "start_time": "2022-06-02T08:52:27.708393Z"
    }
   },
   "outputs": [
    {
     "data": {
      "text/plain": [
       "array([0, 1, 0, ..., 0, 1, 0])"
      ]
     },
     "execution_count": 14,
     "metadata": {},
     "output_type": "execute_result"
    }
   ],
   "source": [
    "final"
   ]
  },
  {
   "cell_type": "code",
   "execution_count": 15,
   "id": "b3fa8fcc",
   "metadata": {
    "ExecuteTime": {
     "end_time": "2022-06-02T08:52:27.752367Z",
     "start_time": "2022-06-02T08:52:27.724384Z"
    }
   },
   "outputs": [
    {
     "data": {
      "text/plain": [
       "0    117862\n",
       "1     61838\n",
       "dtype: int64"
      ]
     },
     "execution_count": 15,
     "metadata": {},
     "output_type": "execute_result"
    }
   ],
   "source": [
    "df = pd.DataFrame(final)\n",
    "df.value_counts()"
   ]
  },
  {
   "cell_type": "code",
   "execution_count": 16,
   "id": "f4966360",
   "metadata": {
    "ExecuteTime": {
     "end_time": "2022-06-02T08:52:27.800374Z",
     "start_time": "2022-06-02T08:52:27.756365Z"
    }
   },
   "outputs": [
    {
     "data": {
      "text/plain": [
       "52.46644380716431"
      ]
     },
     "execution_count": 16,
     "metadata": {},
     "output_type": "execute_result"
    }
   ],
   "source": [
    "df.value_counts()[1] / df.value_counts()[0] * 100"
   ]
  },
  {
   "cell_type": "code",
   "execution_count": 17,
   "id": "d3623fcc",
   "metadata": {
    "ExecuteTime": {
     "end_time": "2022-06-02T08:52:58.803657Z",
     "start_time": "2022-06-02T08:52:58.492728Z"
    }
   },
   "outputs": [],
   "source": [
    "\n",
    "submission = pd.read_csv('./sample_submission.csv')\n",
    "submission['similar'] = final\n",
    "submission.to_csv('./submission.csv', index=False)\n"
   ]
  }
 ],
 "metadata": {
  "kernelspec": {
   "display_name": "Python 3 (ipykernel)",
   "language": "python",
   "name": "python3"
  },
  "language_info": {
   "codemirror_mode": {
    "name": "ipython",
    "version": 3
   },
   "file_extension": ".py",
   "mimetype": "text/x-python",
   "name": "python",
   "nbconvert_exporter": "python",
   "pygments_lexer": "ipython3",
   "version": "3.8.8"
  },
  "toc": {
   "base_numbering": 1,
   "nav_menu": {},
   "number_sections": true,
   "sideBar": true,
   "skip_h1_title": false,
   "title_cell": "Table of Contents",
   "title_sidebar": "Contents",
   "toc_cell": false,
   "toc_position": {},
   "toc_section_display": true,
   "toc_window_display": false
  }
 },
 "nbformat": 4,
 "nbformat_minor": 5
}
